{
 "cells": [
  {
   "cell_type": "markdown",
   "metadata": {},
   "source": [
    "<center>\n",
    "    <h1>Machine Learning and Data Analytics for Industry 4.0 | SS2020</h1>\n",
    "    <hr>\n",
    "    <br>\n",
    "    <div style=\"margin:0 60px 0px 0\">\n",
    "        <img src=\"https://www.mad.tf.fau.de/files/2019/04/logo_mad.png\" align=center width=500>\n",
    "    </div>\n",
    "    <h2>Generation of Real Looking Images Using GANs</h2>\n",
    "    <h3> by Timo Bohnstedt</h3>\n",
    "    <h3> Supervisor: Franz Köferl, M. Sc.</h3>\n",
    "    <br>\n",
    "</center>"
   ]
  },
  {
   "cell_type": "markdown",
   "metadata": {},
   "source": [
    "<a name='0'></a>\n",
    "\n",
    "### Outline for this Notebook `(clickable)`\n",
    "\n",
    "1. [Data Understanding](#1) <br>\n",
    "1.1. [Loading the MNIST Dataset](#1.1) <br>\n",
    "2. [Data Preparation](#2) <br>\n",
    "2.1. [Helper Methods](#1.2) <br>\n",
    "3. [Modeling](#3) <br>\n",
    "3.1. [Deep Convolutional Generative Adversarial Networks (DCGAN)](#3.1) <br>\n",
    "3.2. [Conditional Deep Convolutional Generative Adversarial Networks (cDCGAN)](#3.2) <br>\n",
    "4. [Evaluation](#4) <br>\n",
    "4.2. [Visual Examination](#4.1) <br>\n",
    "4.2. [K-Nearest-Neighbour (kNN)](#4.2) <br>\n",
    "4.3. [Fréchet Inception Distance (FID)](#4.3) <br>"
   ]
  },
  {
   "cell_type": "markdown",
   "metadata": {},
   "source": [
    "## 0. Preparation of the Notebook\n",
    "\n",
    "First we need to initialize Python.  Run the below cells to import the neccesary packages and set some global settings."
   ]
  },
  {
   "cell_type": "code",
   "execution_count": 16,
   "metadata": {
    "colab": {},
    "colab_type": "code",
    "id": "YfIk2es3hJEd"
   },
   "outputs": [],
   "source": [
    "import tensorflow as tf\n",
    "import glob\n",
    "import imageio\n",
    "import matplotlib.pyplot as plt\n",
    "import numpy as np\n",
    "import os\n",
    "import PIL\n",
    "from tensorflow.keras import layers\n",
    "import time\n",
    "import math\n",
    "import subprocess\n",
    "import cv2\n",
    "from IPython import display\n",
    "import pandas as pd\n",
    "import matplotlib.pyplot as plt\n",
    "import seaborn as sns\n",
    "import random\n",
    "from tqdm import tqdm\n",
    "from sklearn.neighbors import NearestNeighbors\n",
    "import IPython.core.display \n",
    "\n",
    "# To generate GIFs\n",
    "!pip install -q imageio\n",
    "IPython.core.display.set_matplotlib_formats(\"svg\")\n",
    "random.seed(100)\n",
    "%matplotlib inline"
   ]
  },
  {
   "cell_type": "markdown",
   "metadata": {},
   "source": [
    "<a name='1'></a>\n",
    "\n",
    "## 1. Data Understanding\n",
    "\n",
    "<a name='1.1'></a>\n",
    "\n",
    "### 1.1. Loading the MNIST Dataset\n",
    "The dataset I am using is called “MNIST database”. Here is the official description, quoted from the [website](http://yann.lecun.com/exdb/mnist/)\n",
    ">The MNIST database of handwritten digits, available from this page, has a training set of 60,000 examples, and a test set of 10,000 examples. It is a subset of a larger set available from NIST. The digits have been size-normalized and centered in a fixed-size image.\n",
    "It is a good database for people who want to try learning techniques and pattern recognition methods on real-world data while spending minimal efforts on preprocessing and formatting.\n",
    "\n",
    "The figure below shows a few examples from the dataset provided by the [website](https://en.wikipedia.org/wiki/MNIST_database)\n",
    "\n",
    "   <div style=\"margin:0 60px 0px 0\">\n",
    "        <img src=\"https://upload.wikimedia.org/wikipedia/commons/2/27/MnistExamples.png\" align=center>\n",
    "    </div>\n",
    "\n",
    "To start with the task, I used the Keras-API to get the labels. The Keras datasets provide the opportunity to load and preprocess the data at once. To start with the task, I used the Keras-API to get the labels. The Keras datasets provide the opportunity to load and preprocess the data at once. So the data will be downloaded at first, scaled and normalized. Afterwards, it gets divided into distinct parts for training and testing. "
   ]
  },
  {
   "cell_type": "code",
   "execution_count": 5,
   "metadata": {
    "colab": {},
    "colab_type": "code",
    "id": "a4fYMGxGhrna"
   },
   "outputs": [],
   "source": [
    "# Load\n",
    "(train_images, train_labels), (_, _) = tf.keras.datasets.mnist.load_data()"
   ]
  },
  {
   "cell_type": "code",
   "execution_count": 13,
   "metadata": {},
   "outputs": [],
   "source": [
    "# Split\n",
    "train_images = train_images.reshape(train_images.shape[0], 28, 28, 1).astype('float32')"
   ]
  },
  {
   "cell_type": "code",
   "execution_count": 14,
   "metadata": {
    "colab": {},
    "colab_type": "code",
    "id": "NFC2ghIdiZYE"
   },
   "outputs": [],
   "source": [
    "# Normalize\n",
    "train_images = (train_images - 127.5) / 127.5"
   ]
  },
  {
   "cell_type": "code",
   "execution_count": 6,
   "metadata": {},
   "outputs": [],
   "source": [
    "# Transform\n",
    "train_labels =  tf.keras.utils.to_categorical(train_labels, 100)"
   ]
  },
  {
   "cell_type": "markdown",
   "metadata": {},
   "source": [
    "\n",
    "\n",
    "\n",
    "Machine Learning models tuning is a type of optimization problem. We have a set of hyperparameters, and we aim to find the right combination of their values which can help us to see either the minimum or the maximum. Tuning hyperparameters was left out within this project.  This is why the hyperparameters are hard-coded such the network can be trained on the following values. \n",
    "\n",
    "\n",
    ">The values are taken from the original paper suggested by Phillip Isola and his colleagues in their paper [Image-to-Image Translation with Conditional Adversarial Networks](https://arxiv.org/pdf/1611.07004.pdf)"
   ]
  },
  {
   "cell_type": "code",
   "execution_count": 7,
   "metadata": {},
   "outputs": [],
   "source": [
    "# Hyperparameters\n",
    "buffer_size = 60000\n",
    "batch_size = 128\n",
    "epochs = 20\n",
    "noise_dim = 100\n",
    "train_dataset = tf.data.Dataset.from_tensor_slices(train_images).shuffle(buffer_size).batch(batch_size)\n",
    "ACTIVATION = tf.keras.layers.Activation(\"tanh\")"
   ]
  },
  {
   "cell_type": "markdown",
   "metadata": {
    "colab_type": "text",
    "id": "iYn4MdZnKCey"
   },
   "source": [
    "<a name='2'></a>\n",
    "\n",
    "# 2. Data Preparation\n",
    "\n",
    "<a name='2.1'></a>\n",
    "\n",
    "### 2.1. Helper Methods\n",
    "\n",
    "As mentioned in the data loading part, Keras-API offers an opportunity to preprocess the data. Nevertheless, a few helper methods are useful when it comes to present and evaluate the results. \n",
    "\n"
   ]
  },
  {
   "cell_type": "code",
   "execution_count": 17,
   "metadata": {},
   "outputs": [],
   "source": [
    "def generate_mnist_image_grid_for_dcgan(generator, title: str = \"Generated images\"):\n",
    "    \"\"\"Form an image grid with gnerated images by using the generator of a GAN.\n",
    "\n",
    "    Keyword arguments:\n",
    "    generator -- the generator model of any kind GAN\n",
    "    imag -- the imaginary part (default 0.0)\n",
    "    \"\"\"\n",
    "    generated_images = []\n",
    "\n",
    "    for i in range(10):\n",
    "        noise = generate_noise((10, 100))        \n",
    "        gen_images = generator.predict(noise, verbose=0)\n",
    "        generated_images.extend(gen_images)\n",
    "\n",
    "    generated_images = np.array(generated_images)\n",
    "    image_grid = combine_images(generated_images)\n",
    "    image_grid = inverse_transform_images(image_grid)\n",
    "\n",
    "    fig = plt.figure()\n",
    "    ax = fig.add_subplot(1, 1, 1)\n",
    "    ax.axis(\"off\")\n",
    "    ax.imshow(image_grid, cmap=\"gray\")\n",
    "    ax.set_title(title)\n",
    "    fig.canvas.draw()\n",
    "\n",
    "    image = np.fromstring(fig.canvas.tostring_rgb(), dtype=np.uint8, sep='')\n",
    "    image = image.reshape(fig.canvas.get_width_height()[::-1] + (3,))\n",
    "\n",
    "    plt.close()\n",
    "\n",
    "    return image\n",
    "\n",
    "def get_images_for_advanced_evaluation(generator, examples):\n",
    "    \"\"\"Generates a set of images while using the generator part of a GAN.\n",
    "\n",
    "    Keyword arguments:\n",
    "    generator -- the generator model of simple GAN\n",
    "    examples -- a batch of real images in order to compare it with the genrated examples\n",
    "    \"\"\"\n",
    "    generated_images = []\n",
    "\n",
    "    for i in range(examples):\n",
    "        noise = generate_noise((examples, 100))        \n",
    "        gen_images = generator.predict(noise, verbose=0)\n",
    "        generated_images.extend(gen_images)\n",
    "\n",
    "    generated_images = np.array(generated_images)\n",
    "    return generated_images\n",
    "\n",
    "def get_images_for_advanced_evaluation_cdcgan(generator, examples):\n",
    "    \"\"\"Generates a set of images while using the generator part of a GAN.\n",
    "\n",
    "    Keyword arguments:\n",
    "    generator -- the generator model of cGAN\n",
    "    examples -- a batch of real images in order to compare it with the genrated examples\n",
    "    \"\"\"\n",
    "    generated_images = []\n",
    "\n",
    "    for i in range(examples):\n",
    "        noise = generate_noise((10, 100))\n",
    "        label_input = generate_condition_embedding(i, 10)\n",
    "        gen_images = generator.predict([noise, label_input], verbose=0)\n",
    "        generated_images.extend(gen_images)\n",
    "        \n",
    "    generated_images = np.array(generated_images)\n",
    "    return generated_images\n",
    "    return generated_images\n",
    "\n",
    "\n",
    "def save_generated_image(image, epoch, iteration, folder_path):\n",
    "    \"\"\"Save images on your hard drive\n",
    "\n",
    "    Keyword arguments:\n",
    "    image -- the image which shall save on your hard drive\n",
    "    epoch -- string  contains  the epoch in which the image was generated in order generate a unquie name\n",
    "    itteration -- string contains the iteration in which the image was generated in order generate a unquie name\n",
    "    folder_path -- string contains the path on your local hard drive on which the image shall be stored\n",
    "    \"\"\"\n",
    "    if not os.path.isdir(folder_path):\n",
    "        os.makedirs(folder_path)\n",
    "\n",
    "    file_path = \"{0}/{1}_{2}.png\".format(folder_path, epoch, iteration)\n",
    "    cv2.imwrite(file_path, image.astype(np.uint8))\n",
    "    \n",
    "def generate_noise(shape: tuple):\n",
    "    \"\"\"Generate noise to feed it into the generator of any GAN as an input z.\n",
    "\n",
    "    Keyword arguments:\n",
    "    shape -- Defines the actual size of the noisy image and must have the same size as defined in in the input section of the GAN.\n",
    "    \"\"\"\n",
    "    noise = np.random.uniform(0, 1, size=shape)\n",
    "    return noise\n",
    "\n",
    "def combine_images(generated_images):\n",
    "    \"\"\"From a grid of images.\n",
    "\n",
    "    Keyword arguments:\n",
    "    generated_images -- images generated by a GAN.\n",
    "    \"\"\"\n",
    "    num_images = generated_images.shape[0]\n",
    "    new_width = int(math.sqrt(num_images))\n",
    "    new_height = int(math.ceil(float(num_images) / new_width))\n",
    "    grid_shape = generated_images.shape[1:3]\n",
    "    grid_image = np.zeros((new_height * grid_shape[0], new_width * grid_shape[1]), dtype=generated_images.dtype)\n",
    "    for index, img in enumerate(generated_images):\n",
    "        i = int(index / new_width)\n",
    "        j = index % new_width\n",
    "        grid_image[i * grid_shape[0]:(i + 1) * grid_shape[0], j * grid_shape[1]:(j + 1) * grid_shape[1]] = \\\n",
    "            img[:, :, 0]\n",
    "    return grid_image\n",
    "\n",
    "def inverse_transform_images(images: np.ndarray):\n",
    "    \"\"\"From the [-1, 1] range transform the images back to [0, 255].\n",
    "    \n",
    "    Keyword arguments:\n",
    "    images -- image from with colour range of [-1,1]\n",
    "    \"\"\"\n",
    "\n",
    "    images = images * 127.5 + 127.5\n",
    "    images = images.astype(np.uint8)\n",
    "    return images\n",
    "\n",
    "def generate_images_and_labels(generator, nb_images: int, label: int):\n",
    "    \"\"\"Generates images an their labels by example while using the generator part of a GAN.\n",
    "    \n",
    "    Keyword arguments:\n",
    "    images -- image from with colour range of [-1,1]\n",
    "    \"\"\"\n",
    "    noise = generate_noise((nb_images, 100))\n",
    "    label_batch = generate_condition_embedding(label, nb_images)\n",
    "    generated_images = generator.predict([noise, label_batch], verbose=0)\n",
    "    return generated_images\n",
    "\n",
    "def generate_condition_embedding(label: int, nb_of_label_embeddings: int):\n",
    "    \"\"\"Transform labels into a vector emedding in order to use it whin a cDCGAN implementaion.\n",
    "    \n",
    "    Keyword arguments:\n",
    "    label -- inter which defines the label which corresponds with an input image of GAN\n",
    "    nb_of_label_embeddings -- interger which defines the total number of vectors which shall generated\n",
    "    \"\"\"\n",
    "    label_embeddings = np.zeros((nb_of_label_embeddings, 100))\n",
    "    label_embeddings[:, label] = 1\n",
    "    return label_embeddings"
   ]
  },
  {
   "cell_type": "markdown",
   "metadata": {},
   "source": [
    "<a name='3'></a>\n",
    "\n",
    "## 3. Modeling\n",
    "\n",
    "GANs and cGANs stipulate a high-level framework with a lot of freedom in designing its various components. The prototype which will used in order to find answers to the research question uses a so-called conditional deep convolutional neural network (cDCGAN) and uses the hyperparameters suggested by Phillip Isola and his colleagues in their paper [Image-to-Image Translation with Conditional Adversarial Networks](https://arxiv.org/pdf/1611.07004.pdf). More precisely the bat size is 100, the learning rate 0.0002, the amount of training epochs is 100. Furthermore, it uses uses the Adam optimizer. \n",
    "\n",
    "To set a ground through within the evaluation a more simple GAN will be implemented as well. \n",
    "\n",
    "<a name='3.1'></a>\n",
    "\n",
    "### 3.1. Deep Convolutional Generative Adversarial Networks (DCGAN)\n",
    " \n",
    "The generator uses `tf.keras.layers.Conv2DTranspose` (upsampling) layers to produce an image from a seed (random noise). \n",
    "Start with a `Dense` layer that takes this seed as input, then upsample several times \n",
    "until you reach the desired image size of 28x28x1. Notice the `tf.keras.layers.LeakyReLU` activation for each layer, except the output layer which uses tanh.\n"
   ]
  },
  {
   "cell_type": "code",
   "execution_count": 12,
   "metadata": {
    "colab": {},
    "colab_type": "code",
    "id": "6bpTcDqoLWjY"
   },
   "outputs": [
    {
     "ename": "IndentationError",
     "evalue": "unindent does not match any outer indentation level (<tokenize>, line 5)",
     "output_type": "error",
     "traceback": [
      "\u001b[0;36m  File \u001b[0;32m\"<tokenize>\"\u001b[0;36m, line \u001b[0;32m5\u001b[0m\n\u001b[0;31m    model = tf.keras.Sequential()\u001b[0m\n\u001b[0m    ^\u001b[0m\n\u001b[0;31mIndentationError\u001b[0m\u001b[0;31m:\u001b[0m unindent does not match any outer indentation level\n"
     ]
    }
   ],
   "source": [
    "# Generator\n",
    "\n",
    "def make_generator_model():\n",
    "        \"\"\"Using the Keras-API and Tensorlfow as Backend to define a generator model for the GAN\"\"\"\n",
    "    model = tf.keras.Sequential()\n",
    "    model.add(layers.Dense(7*7*256, use_bias=False, input_shape=(100,)))\n",
    "    model.add(layers.BatchNormalization())\n",
    "    model.add(layers.LeakyReLU())\n",
    "\n",
    "    model.add(layers.Reshape((7, 7, 256)))\n",
    "    assert model.output_shape == (None, 7, 7, 256) # Note: None is the batch size\n",
    "\n",
    "    model.add(layers.Conv2DTranspose(128, (5, 5), strides=(1, 1), padding='same', use_bias=False))\n",
    "    assert model.output_shape == (None, 7, 7, 128)\n",
    "    model.add(layers.BatchNormalization())\n",
    "    model.add(layers.LeakyReLU())\n",
    "\n",
    "    model.add(layers.Conv2DTranspose(64, (5, 5), strides=(2, 2), padding='same', use_bias=False))\n",
    "    assert model.output_shape == (None, 14, 14, 64)\n",
    "    model.add(layers.BatchNormalization())\n",
    "    model.add(layers.LeakyReLU())\n",
    "\n",
    "    model.add(layers.Conv2DTranspose(1, (5, 5), strides=(2, 2), padding='same', use_bias=False, activation='tanh'))\n",
    "    assert model.output_shape == (None, 28, 28, 1)\n",
    "\n",
    "    return model"
   ]
  },
  {
   "cell_type": "markdown",
   "metadata": {},
   "source": [
    "In order to check if the generator genertae an example. It must show a noisy image:"
   ]
  },
  {
   "cell_type": "code",
   "execution_count": 9,
   "metadata": {
    "colab": {},
    "colab_type": "code",
    "id": "gl7jcC7TdPTG"
   },
   "outputs": [
    {
     "name": "stdout",
     "output_type": "stream",
     "text": [
      "(1, 28, 28, 1)\n"
     ]
    },
    {
     "data": {
      "text/plain": [
       "<matplotlib.image.AxesImage at 0x7fd13473a810>"
      ]
     },
     "execution_count": 9,
     "metadata": {},
     "output_type": "execute_result"
    },
    {
     "data": {
      "image/svg+xml": [
       "<?xml version=\"1.0\" encoding=\"utf-8\" standalone=\"no\"?>\n",
       "<!DOCTYPE svg PUBLIC \"-//W3C//DTD SVG 1.1//EN\"\n",
       "  \"http://www.w3.org/Graphics/SVG/1.1/DTD/svg11.dtd\">\n",
       "<!-- Created with matplotlib (https://matplotlib.org/) -->\n",
       "<svg height=\"248.518125pt\" version=\"1.1\" viewBox=\"0 0 251.565 248.518125\" width=\"251.565pt\" xmlns=\"http://www.w3.org/2000/svg\" xmlns:xlink=\"http://www.w3.org/1999/xlink\">\n",
       " <defs>\n",
       "  <style type=\"text/css\">\n",
       "*{stroke-linecap:butt;stroke-linejoin:round;}\n",
       "  </style>\n",
       " </defs>\n",
       " <g id=\"figure_1\">\n",
       "  <g id=\"patch_1\">\n",
       "   <path d=\"M 0 248.518125 \n",
       "L 251.565 248.518125 \n",
       "L 251.565 0 \n",
       "L 0 0 \n",
       "z\n",
       "\" style=\"fill:none;\"/>\n",
       "  </g>\n",
       "  <g id=\"axes_1\">\n",
       "   <g id=\"patch_2\">\n",
       "    <path d=\"M 26.925 224.64 \n",
       "L 244.365 224.64 \n",
       "L 244.365 7.2 \n",
       "L 26.925 7.2 \n",
       "z\n",
       "\" style=\"fill:#ffffff;\"/>\n",
       "   </g>\n",
       "   <g clip-path=\"url(#p874892a4d1)\">\n",
       "    <image height=\"218\" id=\"imagef7ac552b32\" transform=\"scale(1 -1)translate(0 -218)\" width=\"218\" x=\"26.925\" xlink:href=\"data:image/png;base64,\n",
       "iVBORw0KGgoAAAANSUhEUgAAANoAAADaCAYAAADAHVzbAAAABHNCSVQICAgIfAhkiAAAD69JREFUeJztnXuQz/X3x8/yaRdLblmbaFnWJWJFbmHJLVJMxpjJNGqaUU1/1PinmGnqDzP1R2WaxiRFdmJKohQjuWzJUhRiXboM1pJLLrlkl2V9//n9+3qeht+cvx6Pfx/Op8/ufp69Zz5nzjlZS5YsuWGCqqoqpa1FixZJl5+fL2urq6ulb9SokfQVFRVJN3bsWFm7YsUK6QcMGCD99u3bpb/vvvuS7ty5c7I2k8lIX1lZKf3gwYOlLysrS7qGDRvK2gYNGkhfXFws/f79+2/KmZkNGjRI+rq6OumvX78u/ZAhQ5Ju7969svauu+6Svp60APD/AkEDCICgAQRA0AACIGgAARA0gAAIGkAAGa/30L17d+l37NiRdE2aNJG1OTk50tevX1/6mpqapCsvL5e1ubm50p85c0b67Oxs6Zs1a5Z0v//+u6z94osvpG/VqpX0kyZNkj4vLy/pamtrZe0PP/wgfWFhofQnTpxIuvvvv1/Wrly5Uvp77rlHeq8vu379+qS7ePGirN21a5f0PNEAAiBoAAEQNIAACBpAAAQNIACCBhAAQQMIIOPNH3mzUT179ky65s2by1qvn1RSUiJ9u3btkq6goEDWrlq1Snqvp3Ps2DHpW7dunXQtW7aUtRMmTJDe6+GpPpmZWVFRUdKpGT8zs9GjR0t/5513St+lS5ek69evn6xVs49mfn9x3bp10qv+44EDB2Rt+/btpeeJBhAAQQMIgKABBEDQAAIgaAABEDSAALLeeustuW6uc+fO8gXUV/TdunWTtd5Xpt7IxdKlS2+6tnfv3tJ7XyVv3bpVerU6Ta2iMzO7cUP+Sdy2h7ca7fjx40m3ZcsWWeutfPPGqlRrwluj563pU60mM7NNmzZJ/88//yRd//79Ze3OnTul54kGEABBAwiAoAEEQNAAAiBoAAEQNIAACBpAAJnhw4fLf7Bt2zbp+/Tpk3TeKIm3Fm369OnST506Nem8VXZt27aV/vDhw9JPnjxZetWHe//992XtwYMHpfdGm7w+29GjR5POW5umRpPMzBYsWCD9lClTks5bs+eNLnknpUaOHCn97Nmzk84bXfL6tjzRAAIgaAABEDSAAAgaQAAEDSAAggYQAEEDCCDrgw8+kMNP9erpLF6+fDnp1Omi//La6sSPmZ4JGzdunKz1Zr4uXLgg/YYNG6SfM2dO0v3888+ytmPHjtJ//PHH0nvzbqdOnUq6ESNGyNrPPvtMeq+Hpz4vak7OzOzIkSPSez+3t95QnX2qqqqStd5nmScaQAAEDSAAggYQAEEDCICgAQRA0AACIGgAAWTOnj0r/0GPHj2kv3LlStLdcccdstY761RdXS39M888k3Rqr6KZ35MZPHiw9E8//bT0qgeo9geamc2cOVP6YcOGSe/tL1Q7Ldu0aSNr1QygmVlNTY30qpel+ntm/m5Fr/+4Z88e6VVvtba2VtZ26NBBep5oAAEQNIAACBpAAAQNIACCBhAAQQMIgKABBJC1YsUKOZjVqVMn+QKq9+HN8Hj9JG9/obqX5fU1vP6h6g+amQ0dOlT60tLSpMvNzZW13izdyZMnpW/UqJH0au7Lm5UrLi6W3tuHqWa+rl27Jmt3794tfV1dnfTebkbVK3v99ddl7axZs6TniQYQAEEDCICgAQRA0AACIGgAARA0gAAy3leqn3zyifTq/JH3dWvXrl2l//XXX2+6Xq17MzN74YUXpPfqvfaBGuHxzlm9/fbb0i9atEj6hQsXSj9o0KCkO3/+vKwdNWqU9NevX5e+vLw86V555RVZ++qrr0rvjWV5IzyKhx9+WHpvpIsnGkAABA0gAIIGEABBAwiAoAEEQNAAAiBoAAFkzZ8/X47JtG/fXr6A6nUVFBTI2srKSukbNGggvRoX6datm6wtLCyU/uLFi9IvXbpU+p49eybdrYz/mJldvXpV+j/++EP6AQMGJJ3XD5o/f770agzGzOzxxx9POm8ka8eOHdJv3rxZeu+sU7t27ZJu/fr1stbLCU80gAAIGkAABA0gAIIGEABBAwiAoAEEQNAAAsh480MLFiyQfvz48UnnnUbyzvCoEz9mZk8++WTSff7557K2T58+0q9evVp673RSly5dku706dOy1usBeuTn50uvzhtNnDhR1r7xxhvST5s2TXo1a+f1uR566CHpt2zZIr3qbZqZLVu2LOnGjBkjaysqKqTniQYQAEEDCICgAQRA0AACIGgAARA0gAAIGkAAWXPnzpXzaNnZ2fIFDh48mHQ9evS4uXf1f6h+j5nZvn37kk7NFpmZfffdd9J782rezspNmzYl3bPPPitrP/roI+mLioqk985hqd/roUOHZO2IESOk9+b4/vrrr6TzTkaNHTtW+gsXLkjvzTcuX7486bwenvd54IkGEABBAwiAoAEEQNAAAiBoAAEQNIAAMt5Xnv/++6/0JSUlSXfq1ClZ+/fff0t/4MAB6Xv37p10L774oqz1vmL/6quvpB8yZIj0auXbjz/+KGs//PBD6b2TUzk5OdKrU13eqjpvlGXgwIHSq9+r93nYv3+/9N7ZJq8tolpZ3u+0fv360vNEAwiAoAEEQNAAAiBoAAEQNIAACBpAAAQNIICsd955R47JeOvoVO/jkUcekbW7du2S3jvjs2LFiqTLzc2VtaNHj5a+uLhYem9VnjqN9Oijj8pab7WZNy7SoUMH6UeOHJl03tklb91c48aNpVcjOl4PzzuN5PXJMpmM9L169Uq6K1euyNp169ZJzxMNIACCBhAAQQMIgKABBEDQAAIgaAABEDSAALK+/vpr2Ue7evWqfIGCgoKkO378uKy9fPmy9Hl5edKrVXdlZWWy1uvRTZgwQfolS5ZIP2nSpKTbvHmzrC0vL5d+xowZ0ntzW/369Uu6yspKWTt48GDpS0tLpVd9tunTp8tadVbJzGzr1q3SeyepVB9OrTY0M2vYsKH0PNEAAiBoAAEQNIAACBpAAAQNIACCBhAAQQMIILN79275D7wZH7X38dKlS7K2VatW0nszQE2bNk26Ll26yFpvD9/OnTulP3z4sPTqbFOzZs1k7Y0bsrUpTx+Z+e9NnbTas2ePrPV2bXqnlx577LGkW7x48S39t7t37y69d87q3XffTTo1q2ZmdvToUel5ogEEQNAAAiBoAAEQNIAACBpAAAQNIACCBhBApm3btvIfeLv2FOoOl5nZhQsXpK+oqJD+5MmTSdemTRtZ261bN+mXL18uvbd7Ue11XLt2raz13vuhQ4ek93ZWKlq2bCm913f1dk7W1tYmnTeH99RTT0lfV1cnvffez549m3Rq9tHM7LbbbpOeJxpAAAQNIACCBhAAQQMIgKABBEDQAALImjdvnpzJ6Nu3r3yB9957L+m8r6m9r0TVOIeZXlfnrbJr1KiR9N46up9++kl69bPl5+fL2hMnTkhfWFgovdeyWbVqVdLV1NTIWu9v4r039RX8xo0bZa13UkqdEDMz69q1q/TqLJQaoTHzP+s80QACIGgAARA0gAAIGkAABA0gAIIGEABBAwgg460+27Ztm/SzZs1Kunnz5t3Um/qv/+1p06YlnVpFZ2Y2f/586Tt27Ci99/pVVVVJN27cOFmbyWSkr1dP///xm2++kT47OzvpvPNE3nvfvn279M8//3zSqdWFZmYXL16U/oknnpD+yy+/lF71L2fPni1rFyxYID1PNIAACBpAAAQNIACCBhAAQQMIgKABBEDQAALImjt3rpxHa968uXwBdVrJW122cuVK6dXKNjPdTxo1apSs/eWXX6TfsWOH9Pfee6/06mfr3LmzrO3fv7/0c+bMkX7gwIHSN2nSJOm8U1ler8ub+VJnoVq0aCFrvfc2efJk6b31hmp9oTff6HmeaAABEDSAAAgaQAAEDSAAggYQAEEDCICgAQSQVVZWJvto33//vXyB1q1bJ92RI0dk7aBBg6T3TuWoHYPqfZmZ1a9fX3rvXJU68WNmlpeXl3Q5OTmy9s0335S+T58+0nv7DV9++eWkO3PmjKw9duyY9I0bN5a+qKgo6bx5szVr1kifm5srveofmunPk/fav/32m/Q80QACIGgAARA0gAAIGkAABA0gAIIGEABBAwgga9myZbKP5t19Ki0tTbpJkybJ2g0bNkjv7U5U80PDhg2TtWrvopnZ3r17pfdm7a5fv5503p2vgoIC6b3dif369ZNezeJ5r61+52ZmJSUl0rdq1Srpjh8/Lmu9vuu3334rvdcjVDfzvFt+3n5UnmgAARA0gAAIGkAABA0gAIIGEABBAwgg4417eF9jq5EO75SNt3bNG9GZPn160i1btkzW9u3bV/qpU6dKX11dLb36GruyslLWemMu3bt3l16dZTLTq9GysrJk7YwZM6T31vDNnDkz6aZMmSJrGzZseEveG+FRYzJt27aVtd74EE80gAAIGkAABA0gAIIGEABBAwiAoAEEQNAAAsjcuCGnZKyiokL6o0ePJt2lS5dkrTcuMnHiROnLy8uTzlsn550AOnXqlPQnTpyQXv1e9+/fL2u980K9evWSvq6uTnp1Osk7d+X93Dt37pQ+Pz8/6bzPojdW5f3NiouLpS8sLEy6P//8U9b27t1bep5oAAEQNIAACBpAAAQNIACCBhAAQQMIgKABBJBVWloqmxdeT6dFixZJp1aumZndfvvt0i9evFh61YcbOnSorM1kMtKvW7dOeu/EkFrTN3z4cFn72muvSd+pUyfpO3ToIL36va1du1bWPvfcc9KrVXZmZufOnUs673c+ZswY6evV08+Na9euSa9OdQ0YMEDWeqvyeKIBBEDQAAIgaAABEDSAAAgaQAAEDSAAggYQQNann34q+2hez2bTpk1J582EqTM5ZmY9e/aUXu1uHD9+vKzdt2+f9EVFRdIvWrRI+vbt2yed1z988MEHpV+4cKH03nkjNfd1/vx5WevNGHqfF/WZWL16tazNy8u7JT9w4EDpy8rKks6bdfNObfFEAwiAoAEEQNAAAiBoAAEQNIAACBpAAO7X+1VVVfIF1Iou7yvR2tpa6Zs0aSJ906ZNk84biTh06JD03omfu+++W3r1FfzkyZNlrTcuos5VmZlt3LhRerXyTa0PNNN/bzP/vb/00ktJt3TpUlmrWiZmegTnv9SvWbMm6R544AFZ663Z44kGEABBAwiAoAEEQNAAAiBoAAEQNIAACBpAAFlz586VfTSvl6VGLrzzQd7ppJycHOnVerGamhpZ6/XJTp8+Lb13Ykj1bPbu3StrvffujWRcvXpV+uzs7KTz+mjeKMrly5elr66uTjqvz+V9XrwRHu/zpMa2vPWEHjzRAAIgaAABEDSAAAgaQAAEDSAAggYQAEEDCOB/PcKTnGuEDOsAAAAASUVORK5CYII=\" y=\"-6.64\"/>\n",
       "   </g>\n",
       "   <g id=\"matplotlib.axis_1\">\n",
       "    <g id=\"xtick_1\">\n",
       "     <g id=\"line2d_1\">\n",
       "      <defs>\n",
       "       <path d=\"M 0 0 \n",
       "L 0 3.5 \n",
       "\" id=\"m36f1058b00\" style=\"stroke:#000000;stroke-width:0.8;\"/>\n",
       "      </defs>\n",
       "      <g>\n",
       "       <use style=\"stroke:#000000;stroke-width:0.8;\" x=\"30.807857\" xlink:href=\"#m36f1058b00\" y=\"224.64\"/>\n",
       "      </g>\n",
       "     </g>\n",
       "     <g id=\"text_1\">\n",
       "      <!-- 0 -->\n",
       "      <defs>\n",
       "       <path d=\"M 31.78125 66.40625 \n",
       "Q 24.171875 66.40625 20.328125 58.90625 \n",
       "Q 16.5 51.421875 16.5 36.375 \n",
       "Q 16.5 21.390625 20.328125 13.890625 \n",
       "Q 24.171875 6.390625 31.78125 6.390625 \n",
       "Q 39.453125 6.390625 43.28125 13.890625 \n",
       "Q 47.125 21.390625 47.125 36.375 \n",
       "Q 47.125 51.421875 43.28125 58.90625 \n",
       "Q 39.453125 66.40625 31.78125 66.40625 \n",
       "z\n",
       "M 31.78125 74.21875 \n",
       "Q 44.046875 74.21875 50.515625 64.515625 \n",
       "Q 56.984375 54.828125 56.984375 36.375 \n",
       "Q 56.984375 17.96875 50.515625 8.265625 \n",
       "Q 44.046875 -1.421875 31.78125 -1.421875 \n",
       "Q 19.53125 -1.421875 13.0625 8.265625 \n",
       "Q 6.59375 17.96875 6.59375 36.375 \n",
       "Q 6.59375 54.828125 13.0625 64.515625 \n",
       "Q 19.53125 74.21875 31.78125 74.21875 \n",
       "z\n",
       "\" id=\"DejaVuSans-48\"/>\n",
       "      </defs>\n",
       "      <g transform=\"translate(27.626607 239.238437)scale(0.1 -0.1)\">\n",
       "       <use xlink:href=\"#DejaVuSans-48\"/>\n",
       "      </g>\n",
       "     </g>\n",
       "    </g>\n",
       "    <g id=\"xtick_2\">\n",
       "     <g id=\"line2d_2\">\n",
       "      <g>\n",
       "       <use style=\"stroke:#000000;stroke-width:0.8;\" x=\"69.636429\" xlink:href=\"#m36f1058b00\" y=\"224.64\"/>\n",
       "      </g>\n",
       "     </g>\n",
       "     <g id=\"text_2\">\n",
       "      <!-- 5 -->\n",
       "      <defs>\n",
       "       <path d=\"M 10.796875 72.90625 \n",
       "L 49.515625 72.90625 \n",
       "L 49.515625 64.59375 \n",
       "L 19.828125 64.59375 \n",
       "L 19.828125 46.734375 \n",
       "Q 21.96875 47.46875 24.109375 47.828125 \n",
       "Q 26.265625 48.1875 28.421875 48.1875 \n",
       "Q 40.625 48.1875 47.75 41.5 \n",
       "Q 54.890625 34.8125 54.890625 23.390625 \n",
       "Q 54.890625 11.625 47.5625 5.09375 \n",
       "Q 40.234375 -1.421875 26.90625 -1.421875 \n",
       "Q 22.3125 -1.421875 17.546875 -0.640625 \n",
       "Q 12.796875 0.140625 7.71875 1.703125 \n",
       "L 7.71875 11.625 \n",
       "Q 12.109375 9.234375 16.796875 8.0625 \n",
       "Q 21.484375 6.890625 26.703125 6.890625 \n",
       "Q 35.15625 6.890625 40.078125 11.328125 \n",
       "Q 45.015625 15.765625 45.015625 23.390625 \n",
       "Q 45.015625 31 40.078125 35.4375 \n",
       "Q 35.15625 39.890625 26.703125 39.890625 \n",
       "Q 22.75 39.890625 18.8125 39.015625 \n",
       "Q 14.890625 38.140625 10.796875 36.28125 \n",
       "z\n",
       "\" id=\"DejaVuSans-53\"/>\n",
       "      </defs>\n",
       "      <g transform=\"translate(66.455179 239.238437)scale(0.1 -0.1)\">\n",
       "       <use xlink:href=\"#DejaVuSans-53\"/>\n",
       "      </g>\n",
       "     </g>\n",
       "    </g>\n",
       "    <g id=\"xtick_3\">\n",
       "     <g id=\"line2d_3\">\n",
       "      <g>\n",
       "       <use style=\"stroke:#000000;stroke-width:0.8;\" x=\"108.465\" xlink:href=\"#m36f1058b00\" y=\"224.64\"/>\n",
       "      </g>\n",
       "     </g>\n",
       "     <g id=\"text_3\">\n",
       "      <!-- 10 -->\n",
       "      <defs>\n",
       "       <path d=\"M 12.40625 8.296875 \n",
       "L 28.515625 8.296875 \n",
       "L 28.515625 63.921875 \n",
       "L 10.984375 60.40625 \n",
       "L 10.984375 69.390625 \n",
       "L 28.421875 72.90625 \n",
       "L 38.28125 72.90625 \n",
       "L 38.28125 8.296875 \n",
       "L 54.390625 8.296875 \n",
       "L 54.390625 0 \n",
       "L 12.40625 0 \n",
       "z\n",
       "\" id=\"DejaVuSans-49\"/>\n",
       "      </defs>\n",
       "      <g transform=\"translate(102.1025 239.238437)scale(0.1 -0.1)\">\n",
       "       <use xlink:href=\"#DejaVuSans-49\"/>\n",
       "       <use x=\"63.623047\" xlink:href=\"#DejaVuSans-48\"/>\n",
       "      </g>\n",
       "     </g>\n",
       "    </g>\n",
       "    <g id=\"xtick_4\">\n",
       "     <g id=\"line2d_4\">\n",
       "      <g>\n",
       "       <use style=\"stroke:#000000;stroke-width:0.8;\" x=\"147.293571\" xlink:href=\"#m36f1058b00\" y=\"224.64\"/>\n",
       "      </g>\n",
       "     </g>\n",
       "     <g id=\"text_4\">\n",
       "      <!-- 15 -->\n",
       "      <g transform=\"translate(140.931071 239.238437)scale(0.1 -0.1)\">\n",
       "       <use xlink:href=\"#DejaVuSans-49\"/>\n",
       "       <use x=\"63.623047\" xlink:href=\"#DejaVuSans-53\"/>\n",
       "      </g>\n",
       "     </g>\n",
       "    </g>\n",
       "    <g id=\"xtick_5\">\n",
       "     <g id=\"line2d_5\">\n",
       "      <g>\n",
       "       <use style=\"stroke:#000000;stroke-width:0.8;\" x=\"186.122143\" xlink:href=\"#m36f1058b00\" y=\"224.64\"/>\n",
       "      </g>\n",
       "     </g>\n",
       "     <g id=\"text_5\">\n",
       "      <!-- 20 -->\n",
       "      <defs>\n",
       "       <path d=\"M 19.1875 8.296875 \n",
       "L 53.609375 8.296875 \n",
       "L 53.609375 0 \n",
       "L 7.328125 0 \n",
       "L 7.328125 8.296875 \n",
       "Q 12.9375 14.109375 22.625 23.890625 \n",
       "Q 32.328125 33.6875 34.8125 36.53125 \n",
       "Q 39.546875 41.84375 41.421875 45.53125 \n",
       "Q 43.3125 49.21875 43.3125 52.78125 \n",
       "Q 43.3125 58.59375 39.234375 62.25 \n",
       "Q 35.15625 65.921875 28.609375 65.921875 \n",
       "Q 23.96875 65.921875 18.8125 64.3125 \n",
       "Q 13.671875 62.703125 7.8125 59.421875 \n",
       "L 7.8125 69.390625 \n",
       "Q 13.765625 71.78125 18.9375 73 \n",
       "Q 24.125 74.21875 28.421875 74.21875 \n",
       "Q 39.75 74.21875 46.484375 68.546875 \n",
       "Q 53.21875 62.890625 53.21875 53.421875 \n",
       "Q 53.21875 48.921875 51.53125 44.890625 \n",
       "Q 49.859375 40.875 45.40625 35.40625 \n",
       "Q 44.1875 33.984375 37.640625 27.21875 \n",
       "Q 31.109375 20.453125 19.1875 8.296875 \n",
       "z\n",
       "\" id=\"DejaVuSans-50\"/>\n",
       "      </defs>\n",
       "      <g transform=\"translate(179.759643 239.238437)scale(0.1 -0.1)\">\n",
       "       <use xlink:href=\"#DejaVuSans-50\"/>\n",
       "       <use x=\"63.623047\" xlink:href=\"#DejaVuSans-48\"/>\n",
       "      </g>\n",
       "     </g>\n",
       "    </g>\n",
       "    <g id=\"xtick_6\">\n",
       "     <g id=\"line2d_6\">\n",
       "      <g>\n",
       "       <use style=\"stroke:#000000;stroke-width:0.8;\" x=\"224.950714\" xlink:href=\"#m36f1058b00\" y=\"224.64\"/>\n",
       "      </g>\n",
       "     </g>\n",
       "     <g id=\"text_6\">\n",
       "      <!-- 25 -->\n",
       "      <g transform=\"translate(218.588214 239.238437)scale(0.1 -0.1)\">\n",
       "       <use xlink:href=\"#DejaVuSans-50\"/>\n",
       "       <use x=\"63.623047\" xlink:href=\"#DejaVuSans-53\"/>\n",
       "      </g>\n",
       "     </g>\n",
       "    </g>\n",
       "   </g>\n",
       "   <g id=\"matplotlib.axis_2\">\n",
       "    <g id=\"ytick_1\">\n",
       "     <g id=\"line2d_7\">\n",
       "      <defs>\n",
       "       <path d=\"M 0 0 \n",
       "L -3.5 0 \n",
       "\" id=\"mbe7e9acdcd\" style=\"stroke:#000000;stroke-width:0.8;\"/>\n",
       "      </defs>\n",
       "      <g>\n",
       "       <use style=\"stroke:#000000;stroke-width:0.8;\" x=\"26.925\" xlink:href=\"#mbe7e9acdcd\" y=\"11.082857\"/>\n",
       "      </g>\n",
       "     </g>\n",
       "     <g id=\"text_7\">\n",
       "      <!-- 0 -->\n",
       "      <g transform=\"translate(13.5625 14.882076)scale(0.1 -0.1)\">\n",
       "       <use xlink:href=\"#DejaVuSans-48\"/>\n",
       "      </g>\n",
       "     </g>\n",
       "    </g>\n",
       "    <g id=\"ytick_2\">\n",
       "     <g id=\"line2d_8\">\n",
       "      <g>\n",
       "       <use style=\"stroke:#000000;stroke-width:0.8;\" x=\"26.925\" xlink:href=\"#mbe7e9acdcd\" y=\"49.911429\"/>\n",
       "      </g>\n",
       "     </g>\n",
       "     <g id=\"text_8\">\n",
       "      <!-- 5 -->\n",
       "      <g transform=\"translate(13.5625 53.710647)scale(0.1 -0.1)\">\n",
       "       <use xlink:href=\"#DejaVuSans-53\"/>\n",
       "      </g>\n",
       "     </g>\n",
       "    </g>\n",
       "    <g id=\"ytick_3\">\n",
       "     <g id=\"line2d_9\">\n",
       "      <g>\n",
       "       <use style=\"stroke:#000000;stroke-width:0.8;\" x=\"26.925\" xlink:href=\"#mbe7e9acdcd\" y=\"88.74\"/>\n",
       "      </g>\n",
       "     </g>\n",
       "     <g id=\"text_9\">\n",
       "      <!-- 10 -->\n",
       "      <g transform=\"translate(7.2 92.539219)scale(0.1 -0.1)\">\n",
       "       <use xlink:href=\"#DejaVuSans-49\"/>\n",
       "       <use x=\"63.623047\" xlink:href=\"#DejaVuSans-48\"/>\n",
       "      </g>\n",
       "     </g>\n",
       "    </g>\n",
       "    <g id=\"ytick_4\">\n",
       "     <g id=\"line2d_10\">\n",
       "      <g>\n",
       "       <use style=\"stroke:#000000;stroke-width:0.8;\" x=\"26.925\" xlink:href=\"#mbe7e9acdcd\" y=\"127.568571\"/>\n",
       "      </g>\n",
       "     </g>\n",
       "     <g id=\"text_10\">\n",
       "      <!-- 15 -->\n",
       "      <g transform=\"translate(7.2 131.36779)scale(0.1 -0.1)\">\n",
       "       <use xlink:href=\"#DejaVuSans-49\"/>\n",
       "       <use x=\"63.623047\" xlink:href=\"#DejaVuSans-53\"/>\n",
       "      </g>\n",
       "     </g>\n",
       "    </g>\n",
       "    <g id=\"ytick_5\">\n",
       "     <g id=\"line2d_11\">\n",
       "      <g>\n",
       "       <use style=\"stroke:#000000;stroke-width:0.8;\" x=\"26.925\" xlink:href=\"#mbe7e9acdcd\" y=\"166.397143\"/>\n",
       "      </g>\n",
       "     </g>\n",
       "     <g id=\"text_11\">\n",
       "      <!-- 20 -->\n",
       "      <g transform=\"translate(7.2 170.196362)scale(0.1 -0.1)\">\n",
       "       <use xlink:href=\"#DejaVuSans-50\"/>\n",
       "       <use x=\"63.623047\" xlink:href=\"#DejaVuSans-48\"/>\n",
       "      </g>\n",
       "     </g>\n",
       "    </g>\n",
       "    <g id=\"ytick_6\">\n",
       "     <g id=\"line2d_12\">\n",
       "      <g>\n",
       "       <use style=\"stroke:#000000;stroke-width:0.8;\" x=\"26.925\" xlink:href=\"#mbe7e9acdcd\" y=\"205.225714\"/>\n",
       "      </g>\n",
       "     </g>\n",
       "     <g id=\"text_12\">\n",
       "      <!-- 25 -->\n",
       "      <g transform=\"translate(7.2 209.024933)scale(0.1 -0.1)\">\n",
       "       <use xlink:href=\"#DejaVuSans-50\"/>\n",
       "       <use x=\"63.623047\" xlink:href=\"#DejaVuSans-53\"/>\n",
       "      </g>\n",
       "     </g>\n",
       "    </g>\n",
       "   </g>\n",
       "   <g id=\"patch_3\">\n",
       "    <path d=\"M 26.925 224.64 \n",
       "L 26.925 7.2 \n",
       "\" style=\"fill:none;stroke:#000000;stroke-linecap:square;stroke-linejoin:miter;stroke-width:0.8;\"/>\n",
       "   </g>\n",
       "   <g id=\"patch_4\">\n",
       "    <path d=\"M 244.365 224.64 \n",
       "L 244.365 7.2 \n",
       "\" style=\"fill:none;stroke:#000000;stroke-linecap:square;stroke-linejoin:miter;stroke-width:0.8;\"/>\n",
       "   </g>\n",
       "   <g id=\"patch_5\">\n",
       "    <path d=\"M 26.925 224.64 \n",
       "L 244.365 224.64 \n",
       "\" style=\"fill:none;stroke:#000000;stroke-linecap:square;stroke-linejoin:miter;stroke-width:0.8;\"/>\n",
       "   </g>\n",
       "   <g id=\"patch_6\">\n",
       "    <path d=\"M 26.925 7.2 \n",
       "L 244.365 7.2 \n",
       "\" style=\"fill:none;stroke:#000000;stroke-linecap:square;stroke-linejoin:miter;stroke-width:0.8;\"/>\n",
       "   </g>\n",
       "  </g>\n",
       " </g>\n",
       " <defs>\n",
       "  <clipPath id=\"p874892a4d1\">\n",
       "   <rect height=\"217.44\" width=\"217.44\" x=\"26.925\" y=\"7.2\"/>\n",
       "  </clipPath>\n",
       " </defs>\n",
       "</svg>\n"
      ],
      "text/plain": [
       "<Figure size 432x288 with 1 Axes>"
      ]
     },
     "metadata": {
      "needs_background": "light"
     },
     "output_type": "display_data"
    }
   ],
   "source": [
    "# Example\n",
    "\n",
    "generator = make_generator_model()\n",
    "noise = tf.random.normal([1, 100])\n",
    "generated_image = generator(noise, training=False)\n",
    "print(generated_image.shape)\n",
    "plt.imshow(generated_image[0, :, :, 0], cmap='gray')"
   ]
  },
  {
   "cell_type": "code",
   "execution_count": 10,
   "metadata": {
    "colab": {},
    "colab_type": "code",
    "id": "dw2tPLmk2pEP"
   },
   "outputs": [],
   "source": [
    "# Discriminator\n",
    "\n",
    "def make_discriminator_model():\n",
    "    \"\"\"Using the Keras-API and Tensorlfow as Backend to define a discriminator model for the GAN\"\"\"\n",
    "    model = tf.keras.Sequential()\n",
    "    model.add(layers.Conv2D(64, (5, 5), strides=(2, 2), padding='same',\n",
    "                                     input_shape=[28, 28, 1]))\n",
    "    model.add(layers.LeakyReLU())\n",
    "    model.add(layers.Dropout(0.3))\n",
    "\n",
    "    model.add(layers.Conv2D(128, (5, 5), strides=(2, 2), padding='same'))\n",
    "    model.add(layers.LeakyReLU())\n",
    "    model.add(layers.Dropout(0.3))\n",
    "\n",
    "    model.add(layers.Flatten())\n",
    "    model.add(layers.Dense(1))\n",
    "\n",
    "    return model"
   ]
  },
  {
   "cell_type": "code",
   "execution_count": 22,
   "metadata": {
    "colab": {},
    "colab_type": "code",
    "id": "gDkA05NE6QMs"
   },
   "outputs": [
    {
     "name": "stdout",
     "output_type": "stream",
     "text": [
      "tf.Tensor([[0.0012629]], shape=(1, 1), dtype=float32)\n"
     ]
    }
   ],
   "source": [
    "# Validation\n",
    "\n",
    "# Show if weather the disciminator is able to distinguish between real and fake images or not\n",
    "\n",
    "discriminator = make_discriminator_model()\n",
    "decision = discriminator(generated_image)\n",
    "print (decision)\n",
    "\n",
    "# This method returns a helper function to compute cross entropy loss\n",
    "cross_entropy = tf.keras.losses.BinaryCrossentropy(from_logits=True)"
   ]
  },
  {
   "cell_type": "code",
   "execution_count": 24,
   "metadata": {
    "colab": {},
    "colab_type": "code",
    "id": "wkMNfBWlT-PV"
   },
   "outputs": [],
   "source": [
    "def discriminator_loss(real_output, fake_output):\n",
    "    \"\"\"Generates a metric which tells the sucess of the discriminator in respect too the generator.\n",
    "    \n",
    "    Keyword arguments:\n",
    "    real_input -- sample batch of the training data\n",
    "    fake_output -- sample of generated images\n",
    "    \"\"\"\n",
    "    real_loss = cross_entropy(tf.ones_like(real_output), real_output)\n",
    "    fake_loss = cross_entropy(tf.zeros_like(fake_output), fake_output)\n",
    "    total_loss = real_loss + fake_loss\n",
    "    return total_loss"
   ]
  },
  {
   "cell_type": "code",
   "execution_count": 25,
   "metadata": {
    "colab": {},
    "colab_type": "code",
    "id": "90BIcCKcDMxz"
   },
   "outputs": [],
   "source": [
    "def generator_loss(fake_output):\n",
    "    \"\"\"Generates a metric which tells the sucess of the generator in respect too the discriminator.\n",
    "    \n",
    "    Keyword arguments:    \n",
    "    fake_output -- sample of generated images\n",
    "    \"\"\"\n",
    "    return cross_entropy(tf.ones_like(fake_output), fake_output)"
   ]
  },
  {
   "cell_type": "code",
   "execution_count": 26,
   "metadata": {
    "colab": {},
    "colab_type": "code",
    "id": "iWCn_PVdEJZ7"
   },
   "outputs": [],
   "source": [
    "generator_optimizer = tf.keras.optimizers.Adam(1e-4)\n",
    "discriminator_optimizer = tf.keras.optimizers.Adam(1e-4)"
   ]
  },
  {
   "cell_type": "markdown",
   "metadata": {
    "colab_type": "text",
    "id": "mWtinsGDPJlV"
   },
   "source": [
    "### Save checkpoints\n",
    "This notebook also demonstrates how to save and restore models, which can be helpful in case a long running training task is interrupted."
   ]
  },
  {
   "cell_type": "code",
   "execution_count": null,
   "metadata": {
    "colab": {},
    "colab_type": "code",
    "id": "CA1w-7s2POEy"
   },
   "outputs": [],
   "source": [
    "checkpoint_dir = './training_checkpoints'\n",
    "checkpoint_prefix = os.path.join(checkpoint_dir, \"ckpt\")\n",
    "checkpoint = tf.train.Checkpoint(generator_optimizer=generator_optimizer,\n",
    "                                 discriminator_optimizer=discriminator_optimizer,\n",
    "                                 generator=generator,\n",
    "                                 discriminator=discriminator)"
   ]
  },
  {
   "cell_type": "code",
   "execution_count": 13,
   "metadata": {
    "colab": {},
    "colab_type": "code",
    "id": "3t5ibNo05jCB"
   },
   "outputs": [],
   "source": [
    "# Training Definition\n",
    "\n",
    "@tf.function\n",
    "def train_step(images): \n",
    "    \"\"\"Define a function which defines the training step within each epoch.\n",
    "    \n",
    "    Keyword arguments:    \n",
    "    images -- training samples of the MNIST dataset\n",
    "    \"\"\"\n",
    "    noise = tf.random.normal([BATCH_SIZE, noise_dim])\n",
    "\n",
    "    with tf.GradientTape() as gen_tape, tf.GradientTape() as disc_tape:\n",
    "      generated_images = generator(noise, training=True)\n",
    "\n",
    "      real_output = discriminator(images, training=True)\n",
    "      fake_output = discriminator(generated_images, training=True)\n",
    "\n",
    "      gen_loss = generator_loss(fake_output)\n",
    "      disc_loss = discriminator_loss(real_output, fake_output)\n",
    "\n",
    "    gradients_of_generator = gen_tape.gradient(gen_loss, generator.trainable_variables)\n",
    "    gradients_of_discriminator = disc_tape.gradient(disc_loss, discriminator.trainable_variables)\n",
    "\n",
    "    generator_optimizer.apply_gradients(zip(gradients_of_generator, generator.trainable_variables))\n",
    "    discriminator_optimizer.apply_gradients(zip(gradients_of_discriminator, discriminator.trainable_variables))"
   ]
  },
  {
   "cell_type": "code",
   "execution_count": null,
   "metadata": {},
   "outputs": [],
   "source": [
    "def train(dataset, epochs):\n",
    "    \"\"\"Ddefine a method which actually starts the training, saves and generate images for the dcgan model.\n",
    "    \n",
    "    Keyword arguments:    \n",
    "    dataset -- the prepared dataset which shall be sampled from\n",
    "    epochs -- The defined hyperparameter epoch\n",
    "    \"\"\"\n",
    "    for epoch in range(epochs):\n",
    "        start = time.time()\n",
    "        \n",
    "        for i,image_batch in enumerate(dataset):\n",
    "            train_step(image_batch)\n",
    "            if i % 20 == 0:\n",
    "                image_grid = generate_mnist_image_grid_for_dcgan(generator,title=\"Epoch {0}, iteration {1}\".format(epoch,i))                \n",
    "                save_generated_image(image_grid, epoch, i, \"./images/dcgan/generated_mnist_images_per_iteration\")\n",
    "                \n",
    "        # Save a generated image for every epoch\n",
    "        image_grid = generate_mnist_image_grid_for_dcgan(generator,title=\"Epoch {0}, iteration {1}\".format(epoch,i))                \n",
    "        save_generated_image(image_grid, epoch, i, \"./images/dcgan/generated_mnist_images_per_epoch\")\n",
    "        # Save the model every 10 epochs\n",
    "        if (epoch + 1) % 15 == 0:\n",
    "            checkpoint.save(file_prefix = checkpoint_prefix)\n",
    "            print ('Time for epoch {} is {} sec'.format(epoch + 1, time.time()-start))         \n",
    "    images_for_adcanced_evaluation = get_images_for_advanced_evaluation(generator,100)\n",
    "    print(images_for_adcanced_evaluation.shape)\n",
    "    np.save(\"./images/dcgan/images_for_advanced_evaluation\",images_for_adcanced_evaluation)"
   ]
  },
  {
   "cell_type": "code",
   "execution_count": null,
   "metadata": {
    "colab": {},
    "colab_type": "code",
    "id": "Ly3UN0SLLY2l"
   },
   "outputs": [],
   "source": [
    "# Training Execution\n",
    "\n",
    "train(train_dataset, epochs)"
   ]
  },
  {
   "cell_type": "markdown",
   "metadata": {
    "colab_type": "text",
    "id": "rfM4YcPVPkNO"
   },
   "source": [
    "Restore the latest checkpoint."
   ]
  },
  {
   "cell_type": "code",
   "execution_count": 14,
   "metadata": {},
   "outputs": [
    {
     "ename": "FileNotFoundError",
     "evalue": "[Errno 2] No such file or directory: './images/dcgan/images_for_advanced_evaluation_by_dcgan.npy'",
     "output_type": "error",
     "traceback": [
      "\u001b[0;31m---------------------------------------------------------------------------\u001b[0m",
      "\u001b[0;31mFileNotFoundError\u001b[0m                         Traceback (most recent call last)",
      "\u001b[0;32m<ipython-input-14-072b5d46b6ba>\u001b[0m in \u001b[0;36m<module>\u001b[0;34m\u001b[0m\n\u001b[1;32m      1\u001b[0m \u001b[0;31m# Reload if sth disapperas\u001b[0m\u001b[0;34m\u001b[0m\u001b[0;34m\u001b[0m\u001b[0;34m\u001b[0m\u001b[0m\n\u001b[1;32m      2\u001b[0m \u001b[0;34m\u001b[0m\u001b[0m\n\u001b[0;32m----> 3\u001b[0;31m \u001b[0mimages_for_advanced_evaluation_dcgan\u001b[0m \u001b[0;34m=\u001b[0m \u001b[0mnp\u001b[0m\u001b[0;34m.\u001b[0m\u001b[0mload\u001b[0m\u001b[0;34m(\u001b[0m\u001b[0;34m\"./images/dcgan/images_for_advanced_evaluation_by_dcgan.npy\"\u001b[0m\u001b[0;34m)\u001b[0m\u001b[0;34m\u001b[0m\u001b[0;34m\u001b[0m\u001b[0m\n\u001b[0m",
      "\u001b[0;32m~/opt/anaconda3/envs/gan3/lib/python3.7/site-packages/numpy/lib/npyio.py\u001b[0m in \u001b[0;36mload\u001b[0;34m(file, mmap_mode, allow_pickle, fix_imports, encoding)\u001b[0m\n\u001b[1;32m    426\u001b[0m         \u001b[0mown_fid\u001b[0m \u001b[0;34m=\u001b[0m \u001b[0;32mFalse\u001b[0m\u001b[0;34m\u001b[0m\u001b[0;34m\u001b[0m\u001b[0m\n\u001b[1;32m    427\u001b[0m     \u001b[0;32melse\u001b[0m\u001b[0;34m:\u001b[0m\u001b[0;34m\u001b[0m\u001b[0;34m\u001b[0m\u001b[0m\n\u001b[0;32m--> 428\u001b[0;31m         \u001b[0mfid\u001b[0m \u001b[0;34m=\u001b[0m \u001b[0mopen\u001b[0m\u001b[0;34m(\u001b[0m\u001b[0mos_fspath\u001b[0m\u001b[0;34m(\u001b[0m\u001b[0mfile\u001b[0m\u001b[0;34m)\u001b[0m\u001b[0;34m,\u001b[0m \u001b[0;34m\"rb\"\u001b[0m\u001b[0;34m)\u001b[0m\u001b[0;34m\u001b[0m\u001b[0;34m\u001b[0m\u001b[0m\n\u001b[0m\u001b[1;32m    429\u001b[0m         \u001b[0mown_fid\u001b[0m \u001b[0;34m=\u001b[0m \u001b[0;32mTrue\u001b[0m\u001b[0;34m\u001b[0m\u001b[0;34m\u001b[0m\u001b[0m\n\u001b[1;32m    430\u001b[0m \u001b[0;34m\u001b[0m\u001b[0m\n",
      "\u001b[0;31mFileNotFoundError\u001b[0m: [Errno 2] No such file or directory: './images/dcgan/images_for_advanced_evaluation_by_dcgan.npy'"
     ]
    }
   ],
   "source": [
    "# Reload if sth disapperas\n",
    "\n",
    "images_for_advanced_evaluation_dcgan = np.load(\"./images/dcgan/images_for_advanced_evaluation_by_dcgan.npy\")"
   ]
  },
  {
   "cell_type": "code",
   "execution_count": null,
   "metadata": {},
   "outputs": [],
   "source": [
    "# Validation\n",
    "\n",
    "img = tf.keras.preprocessing.image.array_to_img(images_for_advanced_evaluation_dcgan[0])\n",
    "plt.imshow(img, cmap='gray', vmin=0, vmax=255)"
   ]
  },
  {
   "cell_type": "markdown",
   "metadata": {},
   "source": [
    "<a name='3.2'></a>\n",
    "\n",
    "### 3.2. Conditional Deep Convolutional Generative Adversarial Networks"
   ]
  },
  {
   "cell_type": "code",
   "execution_count": 28,
   "metadata": {},
   "outputs": [],
   "source": [
    "def generator_model():\n",
    "    \"\"\"Using the Keras-API and Tensorlfow as Backend to define a Generator model for the cDCGAN\"\"\"\n",
    "    # Prepare noise input\n",
    "    input_z = tf.keras.layers.Input((100,))\n",
    "    dense_z_1 = tf.keras.layers.Dense(1024)(input_z)\n",
    "    act_z_1 = ACTIVATION(dense_z_1)\n",
    "    dense_z_2 = tf.keras.layers.Dense(128 * 7 * 7)(act_z_1)\n",
    "    bn_z_1 = tf.keras.layers.BatchNormalization()(dense_z_2)\n",
    "    reshape_z = tf.keras.layers.Reshape((7, 7, 128), input_shape=(128 * 7 * 7,))(bn_z_1)\n",
    "\n",
    "    # Prepare Conditional (label) input\n",
    "    input_c = tf.keras.layers.Input((100,))\n",
    "    dense_c_1 = tf.keras.layers.Dense(1024)(input_c)\n",
    "    act_c_1 = ACTIVATION(dense_c_1)\n",
    "    dense_c_2 = tf.keras.layers.Dense(128 * 7 * 7)(act_c_1)\n",
    "    bn_c_1 = tf.keras.layers.BatchNormalization()(dense_c_2)\n",
    "    reshape_c = tf.keras.layers.Reshape((7, 7, 128), input_shape=(128 * 7 * 7,))(bn_c_1)\n",
    "\n",
    "    # Combine input source\n",
    "    concat_z_c = tf.keras.layers.Concatenate()([reshape_z, reshape_c])\n",
    "\n",
    "    # Image generation with the concatenated inputs\n",
    "    up_1 = tf.keras.layers.UpSampling2D(size=(2, 2))(concat_z_c)\n",
    "    conv_1 = tf.keras.layers.Conv2D(64, (5, 5), padding='same')(up_1)\n",
    "    act_1 = ACTIVATION(conv_1)\n",
    "    up_2 = tf.keras.layers.UpSampling2D(size=(2, 2))(act_1)\n",
    "    conv_2 = tf.keras.layers.Conv2D(1, (5, 5), padding='same')(up_2)\n",
    "    act_2 = tf.keras.layers.Activation(\"tanh\")(conv_2)\n",
    "    model = tf.keras.Model(inputs=[input_z, input_c], outputs=act_2)\n",
    "    return model"
   ]
  },
  {
   "cell_type": "code",
   "execution_count": 29,
   "metadata": {},
   "outputs": [
    {
     "name": "stdout",
     "output_type": "stream",
     "text": [
      "Generator:\n",
      "Model: \"model\"\n",
      "__________________________________________________________________________________________________\n",
      "Layer (type)                    Output Shape         Param #     Connected to                     \n",
      "==================================================================================================\n",
      "input_1 (InputLayer)            [(None, 100)]        0                                            \n",
      "__________________________________________________________________________________________________\n",
      "input_2 (InputLayer)            [(None, 100)]        0                                            \n",
      "__________________________________________________________________________________________________\n",
      "dense_2 (Dense)                 (None, 1024)         103424      input_1[0][0]                    \n",
      "__________________________________________________________________________________________________\n",
      "dense_4 (Dense)                 (None, 1024)         103424      input_2[0][0]                    \n",
      "__________________________________________________________________________________________________\n",
      "activation (Activation)         multiple             0           dense_2[0][0]                    \n",
      "                                                                 dense_4[0][0]                    \n",
      "                                                                 conv2d_2[0][0]                   \n",
      "__________________________________________________________________________________________________\n",
      "dense_3 (Dense)                 (None, 6272)         6428800     activation[0][0]                 \n",
      "__________________________________________________________________________________________________\n",
      "dense_5 (Dense)                 (None, 6272)         6428800     activation[1][0]                 \n",
      "__________________________________________________________________________________________________\n",
      "batch_normalization_3 (BatchNor (None, 6272)         25088       dense_3[0][0]                    \n",
      "__________________________________________________________________________________________________\n",
      "batch_normalization_4 (BatchNor (None, 6272)         25088       dense_5[0][0]                    \n",
      "__________________________________________________________________________________________________\n",
      "reshape_1 (Reshape)             (None, 7, 7, 128)    0           batch_normalization_3[0][0]      \n",
      "__________________________________________________________________________________________________\n",
      "reshape_2 (Reshape)             (None, 7, 7, 128)    0           batch_normalization_4[0][0]      \n",
      "__________________________________________________________________________________________________\n",
      "concatenate (Concatenate)       (None, 7, 7, 256)    0           reshape_1[0][0]                  \n",
      "                                                                 reshape_2[0][0]                  \n",
      "__________________________________________________________________________________________________\n",
      "up_sampling2d (UpSampling2D)    (None, 14, 14, 256)  0           concatenate[0][0]                \n",
      "__________________________________________________________________________________________________\n",
      "conv2d_2 (Conv2D)               (None, 14, 14, 64)   409664      up_sampling2d[0][0]              \n",
      "__________________________________________________________________________________________________\n",
      "up_sampling2d_1 (UpSampling2D)  (None, 28, 28, 64)   0           activation[2][0]                 \n",
      "__________________________________________________________________________________________________\n",
      "conv2d_3 (Conv2D)               (None, 28, 28, 1)    1601        up_sampling2d_1[0][0]            \n",
      "__________________________________________________________________________________________________\n",
      "activation_1 (Activation)       (None, 28, 28, 1)    0           conv2d_3[0][0]                   \n",
      "==================================================================================================\n",
      "Total params: 13,525,889\n",
      "Trainable params: 13,500,801\n",
      "Non-trainable params: 25,088\n",
      "__________________________________________________________________________________________________\n"
     ]
    }
   ],
   "source": [
    "print(\"Generator:\")\n",
    "G = generator_model()\n",
    "G.summary()"
   ]
  },
  {
   "cell_type": "code",
   "execution_count": 30,
   "metadata": {},
   "outputs": [],
   "source": [
    "def discriminator_model():\n",
    "    \"\"\"Using the Keras-API and Tensorlfow as Backend to define a Discriminatoer model for the cDCGAN\"\"\"\n",
    "    input_gen_image = tf.keras.layers.Input((28, 28, 1))\n",
    "    conv_1_image = tf.keras.layers.Conv2D(64, (5, 5), padding='same')(input_gen_image)\n",
    "    act_1_image = ACTIVATION(conv_1_image)\n",
    "    pool_1_image = tf.keras.layers.MaxPooling2D(pool_size=(2, 2))(act_1_image)\n",
    "    conv_2_image = tf.keras.layers.Conv2D(128, (5, 5))(pool_1_image)\n",
    "    act_2_image = ACTIVATION(conv_2_image)\n",
    "    pool_2_image = tf.keras.layers.MaxPooling2D(pool_size=(2, 2))(act_2_image)\n",
    "\n",
    "    input_c = tf.keras.layers.Input((100,))\n",
    "    dense_1_c = tf.keras.layers.Dense(1024)(input_c)\n",
    "    act_1_c = ACTIVATION(dense_1_c)\n",
    "    dense_2_c = tf.keras.layers.Dense(5 * 5 * 128)(act_1_c)\n",
    "    bn_c = tf.keras.layers.BatchNormalization()(dense_2_c)\n",
    "    reshaped_c = tf.keras.layers.Reshape((5, 5, 128))(bn_c)\n",
    "\n",
    "    concat = tf.keras.layers.Concatenate()([pool_2_image, reshaped_c])\n",
    "\n",
    "    flat = tf.keras.layers.Flatten()(concat)\n",
    "    dense_1 = tf.keras.layers.Dense(1024)(flat)\n",
    "    act_1 = ACTIVATION(dense_1)\n",
    "    dense_2 = tf.keras.layers.Dense(1)(act_1)\n",
    "    act_2 = tf.keras.layers.Activation('sigmoid')(dense_2)\n",
    "    model = tf.keras.Model(inputs=[input_gen_image, input_c], outputs=act_2)\n",
    "    return model"
   ]
  },
  {
   "cell_type": "code",
   "execution_count": 31,
   "metadata": {},
   "outputs": [
    {
     "name": "stdout",
     "output_type": "stream",
     "text": [
      "Discriminator:\n",
      "Model: \"model_1\"\n",
      "__________________________________________________________________________________________________\n",
      "Layer (type)                    Output Shape         Param #     Connected to                     \n",
      "==================================================================================================\n",
      "input_3 (InputLayer)            [(None, 28, 28, 1)]  0                                            \n",
      "__________________________________________________________________________________________________\n",
      "conv2d_4 (Conv2D)               (None, 28, 28, 64)   1664        input_3[0][0]                    \n",
      "__________________________________________________________________________________________________\n",
      "activation (Activation)         multiple             0           conv2d_4[0][0]                   \n",
      "                                                                 conv2d_5[0][0]                   \n",
      "                                                                 dense_6[0][0]                    \n",
      "                                                                 dense_8[0][0]                    \n",
      "__________________________________________________________________________________________________\n",
      "max_pooling2d (MaxPooling2D)    (None, 14, 14, 64)   0           activation[3][0]                 \n",
      "__________________________________________________________________________________________________\n",
      "input_4 (InputLayer)            [(None, 100)]        0                                            \n",
      "__________________________________________________________________________________________________\n",
      "conv2d_5 (Conv2D)               (None, 10, 10, 128)  204928      max_pooling2d[0][0]              \n",
      "__________________________________________________________________________________________________\n",
      "dense_6 (Dense)                 (None, 1024)         103424      input_4[0][0]                    \n",
      "__________________________________________________________________________________________________\n",
      "dense_7 (Dense)                 (None, 3200)         3280000     activation[5][0]                 \n",
      "__________________________________________________________________________________________________\n",
      "batch_normalization_5 (BatchNor (None, 3200)         12800       dense_7[0][0]                    \n",
      "__________________________________________________________________________________________________\n",
      "max_pooling2d_1 (MaxPooling2D)  (None, 5, 5, 128)    0           activation[4][0]                 \n",
      "__________________________________________________________________________________________________\n",
      "reshape_3 (Reshape)             (None, 5, 5, 128)    0           batch_normalization_5[0][0]      \n",
      "__________________________________________________________________________________________________\n",
      "concatenate_1 (Concatenate)     (None, 5, 5, 256)    0           max_pooling2d_1[0][0]            \n",
      "                                                                 reshape_3[0][0]                  \n",
      "__________________________________________________________________________________________________\n",
      "flatten_1 (Flatten)             (None, 6400)         0           concatenate_1[0][0]              \n",
      "__________________________________________________________________________________________________\n",
      "dense_8 (Dense)                 (None, 1024)         6554624     flatten_1[0][0]                  \n",
      "__________________________________________________________________________________________________\n",
      "dense_9 (Dense)                 (None, 1)            1025        activation[6][0]                 \n",
      "__________________________________________________________________________________________________\n",
      "activation_2 (Activation)       (None, 1)            0           dense_9[0][0]                    \n",
      "==================================================================================================\n",
      "Total params: 10,158,465\n",
      "Trainable params: 10,152,065\n",
      "Non-trainable params: 6,400\n",
      "__________________________________________________________________________________________________\n"
     ]
    }
   ],
   "source": [
    "print(\"Discriminator:\")\n",
    "D = discriminator_model()\n",
    "D.summary()"
   ]
  },
  {
   "cell_type": "code",
   "execution_count": 15,
   "metadata": {},
   "outputs": [],
   "source": [
    "def generator_containing_discriminator(g, d):\n",
    "    \"\"\" Using the Keras-API and Tensorlfow as Backend to define a cDCGAN architecutre for \n",
    "        a cDCGAN which contaions two models (i) generator and (ii) discriminator\n",
    "    \n",
    "    Keyword Arguments:\n",
    "    g -- Generator model \n",
    "    d -- Discriminator model\n",
    "    \"\"\"\n",
    "    \n",
    "    input_z = tf.keras.layers.Input((100,))\n",
    "    input_c = tf.keras.layers.Input((100,))\n",
    "    gen_image = g([input_z, input_c])\n",
    "    d.trainable = False\n",
    "    is_real = d([gen_image, input_c])\n",
    "    model = tf.keras.Model(inputs=[input_z, input_c], outputs=is_real)\n",
    "    return model"
   ]
  },
  {
   "cell_type": "code",
   "execution_count": 33,
   "metadata": {},
   "outputs": [
    {
     "name": "stdout",
     "output_type": "stream",
     "text": [
      "Combined:\n",
      "Model: \"model_2\"\n",
      "__________________________________________________________________________________________________\n",
      "Layer (type)                    Output Shape         Param #     Connected to                     \n",
      "==================================================================================================\n",
      "input_5 (InputLayer)            [(None, 100)]        0                                            \n",
      "__________________________________________________________________________________________________\n",
      "input_6 (InputLayer)            [(None, 100)]        0                                            \n",
      "__________________________________________________________________________________________________\n",
      "model (Model)                   (None, 28, 28, 1)    13525889    input_5[0][0]                    \n",
      "                                                                 input_6[0][0]                    \n",
      "__________________________________________________________________________________________________\n",
      "model_1 (Model)                 (None, 1)            10158465    model[1][0]                      \n",
      "                                                                 input_6[0][0]                    \n",
      "==================================================================================================\n",
      "Total params: 23,684,354\n",
      "Trainable params: 13,500,801\n",
      "Non-trainable params: 10,183,553\n",
      "__________________________________________________________________________________________________\n"
     ]
    }
   ],
   "source": [
    "print(\"Combined:\")\n",
    "GD = generator_containing_discriminator(G, D)\n",
    "GD.summary()"
   ]
  },
  {
   "cell_type": "code",
   "execution_count": 34,
   "metadata": {},
   "outputs": [],
   "source": [
    "optimizer = tf.keras.optimizers.Adam(0.0002, 0.5)"
   ]
  },
  {
   "cell_type": "code",
   "execution_count": 35,
   "metadata": {},
   "outputs": [],
   "source": [
    "def train(epochs):\n",
    "     \"\"\"Ddefine a method which actually starts the training, saves and generate images for the cDCGAN model.\n",
    "    \n",
    "    Keyword arguments:    \n",
    "    epochs -- The defined hyperparameter epoch\n",
    "    \"\"\"\n",
    "    iteration = 0\n",
    "\n",
    "    nb_of_iterations_per_epoch = int(train_images.shape[0] / batch_size)\n",
    "\n",
    "    print(\"Number of iterations per epoch: {0}\".format(nb_of_iterations_per_epoch))\n",
    "\n",
    "    for epoch in range(epochs):\n",
    "        #pbar = tqdm(desc=\"Epoch: {0}\".format(epoch), total=train_images.shape[0])\n",
    "\n",
    "        g_losses_for_epoch = []\n",
    "        d_losses_for_epoch = []\n",
    "\n",
    "        for i in range(nb_of_iterations_per_epoch):\n",
    "            noise = generate_noise((batch_size, 100))\n",
    "\n",
    "            image_batch = train_images[i * batch_size:(i + 1) * batch_size]\n",
    "            label_batch = train_labels[i * batch_size:(i + 1) * batch_size]        \n",
    "\n",
    "            generated_images = G.predict([noise, label_batch], verbose=0)\n",
    "\n",
    "            if i % 20 == 0:\n",
    "                image_grid = generate_mnist_image_grid(G,\n",
    "                                                                    title=\"Epoch {0}, iteration {1}\".format(epoch,\n",
    "                                                                                                            iteration))\n",
    "                save_generated_image(image_grid, epoch, i, \"./images/cdcgan/generated_mnist_images_per_iteration\")\n",
    "                #image_logger.log_images(\"generated_mnist_images_per_iteration\", [image_grid], iteration)\n",
    "\n",
    "            X = np.concatenate((image_batch, generated_images))\n",
    "            y = [1] * batch_size + [0] * batch_size\n",
    "            label_batches_for_discriminator = np.concatenate((label_batch, label_batch))\n",
    "            y = np.array(y)        \n",
    "\n",
    "            D_loss = D.train_on_batch([X, label_batches_for_discriminator], y)\n",
    "            d_losses_for_epoch.append(D_loss)\n",
    "\n",
    "            noise = generate_noise((batch_size, 100))\n",
    "            D.trainable = False\n",
    "            G_loss = GD.train_on_batch([noise, label_batch], [1] * batch_size)\n",
    "            D.trainable = True\n",
    "            g_losses_for_epoch.append(G_loss)        \n",
    "            #pbar.update(batch_size)\n",
    "            iteration += 1\n",
    "\n",
    "        # Save a generated image for every epoch\n",
    "        image_grid = generate_mnist_image_grid(G, title=\"Epoch {0}\".format(epoch))\n",
    "        save_generated_image(image_grid, epoch, 0, \"./images/cdcgan/generated_mnist_images_per_epoch\")    \n",
    "        #pbar.close()        \n",
    "        \n",
    "\n",
    "    images_for_adcanced_evaluation = get_images_for_advanced_evaluation(G,100)\n",
    "    print(images_for_adcanced_evaluation.shape)\n",
    "    np.save(\"./images/cdcgan/images_for_advanced_evaluation\",images_for_adcanced_evaluation)\n",
    "    G.save_weights(\"./models/cdcgan/cdcgan_generators.h5\")\n",
    "    D.save_weights(\"./models/cdcgan/cdcgan_discriminator.h5\")"
   ]
  },
  {
   "cell_type": "code",
   "execution_count": 36,
   "metadata": {},
   "outputs": [
    {
     "name": "stdout",
     "output_type": "stream",
     "text": [
      "Number of iterations per epoch: 468\n"
     ]
    },
    {
     "name": "stderr",
     "output_type": "stream",
     "text": [
      "/Users/beantown/opt/anaconda3/envs/gan3/lib/python3.7/site-packages/ipykernel_launcher.py:112: DeprecationWarning: The binary mode of fromstring is deprecated, as it behaves surprisingly on unicode inputs. Use frombuffer instead\n"
     ]
    },
    {
     "ename": "RuntimeError",
     "evalue": "You must compile your model before training/testing. Use `model.compile(optimizer, loss)`.",
     "output_type": "error",
     "traceback": [
      "\u001b[0;31m---------------------------------------------------------------------------\u001b[0m",
      "\u001b[0;31mRuntimeError\u001b[0m                              Traceback (most recent call last)",
      "\u001b[0;32m<ipython-input-36-979718b0d63a>\u001b[0m in \u001b[0;36m<module>\u001b[0;34m\u001b[0m\n\u001b[0;32m----> 1\u001b[0;31m \u001b[0mtrain\u001b[0m\u001b[0;34m(\u001b[0m\u001b[0mepochs\u001b[0m\u001b[0;34m)\u001b[0m\u001b[0;34m\u001b[0m\u001b[0;34m\u001b[0m\u001b[0m\n\u001b[0m",
      "\u001b[0;32m<ipython-input-35-46120e10cc33>\u001b[0m in \u001b[0;36mtrain\u001b[0;34m(epochs)\u001b[0m\n\u001b[1;32m     32\u001b[0m             \u001b[0my\u001b[0m \u001b[0;34m=\u001b[0m \u001b[0mnp\u001b[0m\u001b[0;34m.\u001b[0m\u001b[0marray\u001b[0m\u001b[0;34m(\u001b[0m\u001b[0my\u001b[0m\u001b[0;34m)\u001b[0m\u001b[0;34m\u001b[0m\u001b[0;34m\u001b[0m\u001b[0m\n\u001b[1;32m     33\u001b[0m \u001b[0;34m\u001b[0m\u001b[0m\n\u001b[0;32m---> 34\u001b[0;31m             \u001b[0mD_loss\u001b[0m \u001b[0;34m=\u001b[0m \u001b[0mD\u001b[0m\u001b[0;34m.\u001b[0m\u001b[0mtrain_on_batch\u001b[0m\u001b[0;34m(\u001b[0m\u001b[0;34m[\u001b[0m\u001b[0mX\u001b[0m\u001b[0;34m,\u001b[0m \u001b[0mlabel_batches_for_discriminator\u001b[0m\u001b[0;34m]\u001b[0m\u001b[0;34m,\u001b[0m \u001b[0my\u001b[0m\u001b[0;34m)\u001b[0m\u001b[0;34m\u001b[0m\u001b[0;34m\u001b[0m\u001b[0m\n\u001b[0m\u001b[1;32m     35\u001b[0m             \u001b[0md_losses_for_epoch\u001b[0m\u001b[0;34m.\u001b[0m\u001b[0mappend\u001b[0m\u001b[0;34m(\u001b[0m\u001b[0mD_loss\u001b[0m\u001b[0;34m)\u001b[0m\u001b[0;34m\u001b[0m\u001b[0;34m\u001b[0m\u001b[0m\n\u001b[1;32m     36\u001b[0m \u001b[0;34m\u001b[0m\u001b[0m\n",
      "\u001b[0;32m~/opt/anaconda3/envs/gan3/lib/python3.7/site-packages/tensorflow_core/python/keras/engine/training.py\u001b[0m in \u001b[0;36mtrain_on_batch\u001b[0;34m(self, x, y, sample_weight, class_weight, reset_metrics)\u001b[0m\n\u001b[1;32m   1070\u001b[0m       \u001b[0mValueError\u001b[0m\u001b[0;34m:\u001b[0m \u001b[0mIn\u001b[0m \u001b[0mcase\u001b[0m \u001b[0mof\u001b[0m \u001b[0minvalid\u001b[0m \u001b[0muser\u001b[0m\u001b[0;34m-\u001b[0m\u001b[0mprovided\u001b[0m \u001b[0marguments\u001b[0m\u001b[0;34m.\u001b[0m\u001b[0;34m\u001b[0m\u001b[0;34m\u001b[0m\u001b[0m\n\u001b[1;32m   1071\u001b[0m     \"\"\"\n\u001b[0;32m-> 1072\u001b[0;31m     \u001b[0mself\u001b[0m\u001b[0;34m.\u001b[0m\u001b[0m_assert_compile_was_called\u001b[0m\u001b[0;34m(\u001b[0m\u001b[0;34m)\u001b[0m\u001b[0;34m\u001b[0m\u001b[0;34m\u001b[0m\u001b[0m\n\u001b[0m\u001b[1;32m   1073\u001b[0m     \u001b[0mself\u001b[0m\u001b[0;34m.\u001b[0m\u001b[0m_check_call_args\u001b[0m\u001b[0;34m(\u001b[0m\u001b[0;34m'train_on_batch'\u001b[0m\u001b[0;34m)\u001b[0m\u001b[0;34m\u001b[0m\u001b[0;34m\u001b[0m\u001b[0m\n\u001b[1;32m   1074\u001b[0m     \u001b[0;32mif\u001b[0m \u001b[0mself\u001b[0m\u001b[0;34m.\u001b[0m\u001b[0m_experimental_run_tf_function\u001b[0m\u001b[0;34m:\u001b[0m\u001b[0;34m\u001b[0m\u001b[0;34m\u001b[0m\u001b[0m\n",
      "\u001b[0;32m~/opt/anaconda3/envs/gan3/lib/python3.7/site-packages/tensorflow_core/python/keras/engine/training.py\u001b[0m in \u001b[0;36m_assert_compile_was_called\u001b[0;34m(self)\u001b[0m\n\u001b[1;32m   2826\u001b[0m     \u001b[0;31m# (i.e. whether the model is built and its inputs/outputs are set).\u001b[0m\u001b[0;34m\u001b[0m\u001b[0;34m\u001b[0m\u001b[0;34m\u001b[0m\u001b[0m\n\u001b[1;32m   2827\u001b[0m     \u001b[0;32mif\u001b[0m \u001b[0;32mnot\u001b[0m \u001b[0mself\u001b[0m\u001b[0;34m.\u001b[0m\u001b[0moptimizer\u001b[0m\u001b[0;34m:\u001b[0m\u001b[0;34m\u001b[0m\u001b[0;34m\u001b[0m\u001b[0m\n\u001b[0;32m-> 2828\u001b[0;31m       raise RuntimeError('You must compile your model before '\n\u001b[0m\u001b[1;32m   2829\u001b[0m                          \u001b[0;34m'training/testing. '\u001b[0m\u001b[0;34m\u001b[0m\u001b[0;34m\u001b[0m\u001b[0m\n\u001b[1;32m   2830\u001b[0m                          'Use `model.compile(optimizer, loss)`.')\n",
      "\u001b[0;31mRuntimeError\u001b[0m: You must compile your model before training/testing. Use `model.compile(optimizer, loss)`."
     ]
    }
   ],
   "source": [
    "train(epochs)"
   ]
  },
  {
   "cell_type": "code",
   "execution_count": null,
   "metadata": {},
   "outputs": [],
   "source": [
    "G.save_weights(\"./models/cdcgan/cdcgan_generators.h5\")\n",
    "D.save_weights(\"./models/cdcgan/cdcgan_discriminator.h5\")"
   ]
  },
  {
   "cell_type": "code",
   "execution_count": null,
   "metadata": {},
   "outputs": [],
   "source": [
    "images_for_advanced_evaluation_cdcgan = get_images_for_advanced_evaluation_cdcgan(G,100)\n",
    "print(images_for_adcanced_evaluation_cdcgan.shape)\n",
    "np.save(\"./images/cdcgan/images_for_advanced_evaluation\",images_for_adcanced_evaluation_cdcgan)"
   ]
  },
  {
   "cell_type": "code",
   "execution_count": null,
   "metadata": {},
   "outputs": [],
   "source": [
    "img = tf.keras.preprocessing.image.array_to_img(images_for_adcanced_evaluation_cdcgan[0])\n",
    "plt.imshow(img, cmap='gray', vmin=0, vmax=255)"
   ]
  },
  {
   "cell_type": "markdown",
   "metadata": {},
   "source": [
    "<a name='4'></a>\n",
    "\n",
    "## 4. Evaluation\n",
    "\n",
    "### 4.1. Visual Examination\n",
    "\n",
    " Use the generator model to get a set of images before training has started"
   ]
  },
  {
   "cell_type": "code",
   "execution_count": 46,
   "metadata": {},
   "outputs": [
    {
     "data": {
      "image/png": "[encoded data removed]",
      "text/plain": [
       "<Figure size 432x288 with 1 Axes>"
      ]
     },
     "metadata": {
      "needs_background": "light"
     },
     "output_type": "display_data"
    }
   ],
   "source": [
    "G = generator_model()\n",
    "D = discriminator_model()\n",
    "\n",
    "generated_images = []\n",
    "\n",
    "for i in range(10):\n",
    "    noise = generate_noise((10, 100))\n",
    "    label_input = generate_condition_embedding(6, 10)\n",
    "    gen_images = G.predict([noise, label_input], verbose=0)\n",
    "    generated_images.extend(gen_images)\n",
    "\n",
    "generated_images = np.array(generated_images)\n",
    "image_grid = combine_images(generated_images)\n",
    "image_grid = inverse_transform_images(image_grid)\n",
    "\n",
    "fig = plt.figure()\n",
    "ax = fig.add_subplot(1, 1, 1)\n",
    "ax.axis(\"off\")\n",
    "ax.imshow(image_grid, cmap=\"gray\")\n",
    "#ax.set_title(title)\n",
    "fig.canvas.draw()\n",
    "plt.show()"
   ]
  },
  {
   "cell_type": "markdown",
   "metadata": {},
   "source": [
    "Use the disciminator to predicted for the generated images whether the are  fake or not"
   ]
  },
  {
   "cell_type": "code",
   "execution_count": 47,
   "metadata": {},
   "outputs": [],
   "source": [
    "generated_images.shape\n",
    "label_input = generate_condition_embedding(6, 100)"
   ]
  },
  {
   "cell_type": "code",
   "execution_count": 48,
   "metadata": {},
   "outputs": [
    {
     "data": {
      "text/plain": [
       "0.50538236"
      ]
     },
     "execution_count": 48,
     "metadata": {},
     "output_type": "execute_result"
    }
   ],
   "source": [
    "prediction = D.predict([generated_images.reshape((100,28,28,1)), label_input.reshape((100,100))])\n",
    "prediction.mean()"
   ]
  },
  {
   "cell_type": "markdown",
   "metadata": {},
   "source": [
    "Use the trainned generator model to get a set of images before training has started"
   ]
  },
  {
   "cell_type": "code",
   "execution_count": 49,
   "metadata": {},
   "outputs": [],
   "source": [
    "G.load_weights(\"./models/cdcgan/cdcgan_generators.h5\")\n",
    "D.load_weights(\"./models/cdcgan/cdcgan_discriminator.h5\")"
   ]
  },
  {
   "cell_type": "code",
   "execution_count": 53,
   "metadata": {},
   "outputs": [
    {
     "name": "stdout",
     "output_type": "stream",
     "text": [
      "(100, 28, 28, 1)\n"
     ]
    },
    {
     "data": {
      "image/png": "[encoded data removed]",
      "text/plain": [
       "<Figure size 432x288 with 1 Axes>"
      ]
     },
     "metadata": {
      "needs_background": "light"
     },
     "output_type": "display_data"
    }
   ],
   "source": [
    "generated_images = []\n",
    "\n",
    "for i in range(10):\n",
    "    noise = generate_noise((10, 100))\n",
    "    label_input = generate_condition_embedding(6, 10)\n",
    "    gen_images = G.predict([noise, label_input], verbose=0)\n",
    "    generated_images.extend(gen_images)\n",
    "\n",
    "generated_images = np.array(generated_images)\n",
    "print(generated_images.shape)\n",
    "image_grid = combine_images(generated_images)\n",
    "image_grid = inverse_transform_images(image_grid)\n",
    "\n",
    "fig = plt.figure()\n",
    "ax = fig.add_subplot(1, 1, 1)\n",
    "ax.axis(\"off\")\n",
    "ax.imshow(image_grid, cmap=\"gray\")\n",
    "#ax.set_title(title)\n",
    "fig.canvas.draw()\n",
    "plt.show()"
   ]
  },
  {
   "cell_type": "markdown",
   "metadata": {},
   "source": [
    "### Use the disciminator to predicted for the generated images whether the are  fake or not"
   ]
  },
  {
   "cell_type": "code",
   "execution_count": 51,
   "metadata": {},
   "outputs": [
    {
     "data": {
      "text/plain": [
       "0.8389712"
      ]
     },
     "execution_count": 51,
     "metadata": {},
     "output_type": "execute_result"
    }
   ],
   "source": [
    "generated_images.shape\n",
    "label_input = generate_condition_embedding(6, 100)\n",
    "prediction = D.predict([generated_images.reshape((100,28,28,1)), label_input.reshape((100,100))])\n",
    "prediction.mean()"
   ]
  },
  {
   "cell_type": "markdown",
   "metadata": {},
   "source": [
    "<a name='4.2'></a>\n",
    "\n",
    "### 4.2 K-Nearest-Neighbour (kNN)\n",
    "\n",
    "Another  approach for  summarizing generator performance is “Nearest Neighbors.” This involves selecting examples of real images from the domain and locating one or more most similar generated images for comparison.\n",
    "\n",
    "Distance measures, such as Euclidean distance between the image pixel data, is often used for selecting the most similar generated images.\n",
    "\n",
    "The nearest neighbor approach is useful to give context for evaluating how realistic the generated images happen to be."
   ]
  },
  {
   "cell_type": "code",
   "execution_count": null,
   "metadata": {},
   "outputs": [],
   "source": [
    "fake_dcgan_images = images_for_advanced_evaluation_dcgan[[0,10,20,30,40,50,60,70,80,90]]\n",
    "fake_cdcgan_images = generated_images[[0,10,20,30,40,50,60,70,80,90]]\n",
    "\n",
    "real_images = train_images.reshape((train_images.shape[0],-1))"
   ]
  },
  {
   "cell_type": "code",
   "execution_count": null,
   "metadata": {},
   "outputs": [],
   "source": [
    "nbrs = NearestNeighbors(n_neighbors=1, ).fit(real_images)"
   ]
  },
  {
   "cell_type": "code",
   "execution_count": null,
   "metadata": {},
   "outputs": [],
   "source": [
    "distances, indices = nbrs.kneighbors(fake_dcgan_images.reshape((fake_dcgan_images.shape[0],-1)))"
   ]
  },
  {
   "cell_type": "code",
   "execution_count": null,
   "metadata": {},
   "outputs": [],
   "source": [
    "neighbors_of_dcgan = train_images[indices.reshape(10)]\n",
    "img = np.concatenate((fake_dcgan_images, neighbors_of_dcgan), axis=0)\n",
    "\n",
    "# show imgs\n",
    "fig = plt.figure(figsize=(40, 8))\n",
    "\n",
    "title = ['DCGAN generated images', 'kNNs k=1','']\n",
    "\n",
    "for i in np.arange(20):\n",
    "    ax = fig.add_subplot(2, 10, i+1, xticks=[], yticks=[])\n",
    "    plt.imshow(img[i, :, :, 0] * 127.5 + 127.5, cmap='gray')\n",
    "    if i == 14:\n",
    "        title_index = 1\n",
    "    elif i == 4:\n",
    "        title_index = 0\n",
    "    else:\n",
    "        title_index = 2\n",
    "    ax.set_title(title[title_index],fontweight =\"bold\",fontsize=30)\n",
    "\n",
    "plt.savefig('DCGAN and KNN with k = 1')"
   ]
  },
  {
   "cell_type": "code",
   "execution_count": null,
   "metadata": {},
   "outputs": [],
   "source": [
    "distances, indices = nbrs.kneighbors(fake_cdcgan_images.reshape((fake_cdcgan_images.shape[0],-1)))"
   ]
  },
  {
   "cell_type": "code",
   "execution_count": null,
   "metadata": {},
   "outputs": [],
   "source": [
    "neighbors_of_cdcgan = train_images[indices.reshape(10)]\n",
    "img = np.concatenate((fake_cdcgan_images, neighbors_of_cdcgan), axis=0)\n",
    "\n",
    "# show imgs\n",
    "fig = plt.figure(figsize=(40, 8))\n",
    "\n",
    "title = ['cDCGAN generated images', 'Result kNN with k=1','']\n",
    "\n",
    "for i in np.arange(20):\n",
    "    ax = fig.add_subplot(2, 10, i+1, xticks=[], yticks=[])\n",
    "    plt.imshow(img[i, :, :, 0] * 127.5 + 127.5, cmap='gray')\n",
    "    if i == 14:\n",
    "        title_index = 1\n",
    "    elif i == 4:\n",
    "        title_index = 0\n",
    "    else:\n",
    "        title_index = 2\n",
    "    ax.set_title(title[title_index],fontweight =\"bold\",fontsize=30)\n",
    "    \n",
    "plt.savefig('cDCGAN and KNN with k = 1')"
   ]
  },
  {
   "cell_type": "markdown",
   "metadata": {},
   "source": [
    "<a name='4.3'></a>\n",
    "\n",
    "### Fréchet Inception Distance (FID)\n",
    "\n",
    "The Frechet Inception Distance, or FID, score was proposed and used by Martin Heusel, et al. in their 2017 paper titled “GANs Trained by a Two Time-Scale Update Rule Converge to a Local Nash Equilibrium.” The score was proposed as an improvement over the existing Inception Score.\n",
    "\n",
    ">FID performs well in terms of discriminability, robustness and computational efficiency. […] It has been shown that FID is consistent with human judgments and is more robust to noise than IS — [Pros and Cons of GAN Evaluation Measures, 2018](https://arxiv.org/pdf/1802.03446.pdf).\n",
    "\n",
    "Like the inception score, the FID score uses the inception v3 model. Specifically, the coding layer of the model (the last pooling layer prior to the output classification of images) is used to capture computer vision specific features of an input image. These activations are calculated for a collection of real and generated images."
   ]
  },
  {
   "cell_type": "code",
   "execution_count": null,
   "metadata": {},
   "outputs": [],
   "source": [
    "generated_images_cdcgan = []\n",
    "\n",
    "for i in range(10):\n",
    "    noise = generate_noise((100, 100))\n",
    "    label_input = generate_condition_embedding(i, 100)\n",
    "    gen_images = G.predict([noise, label_input], verbose=0)\n",
    "    generated_images_cdcgan.extend(gen_images)\n",
    "\n",
    "generated_images_cdcgan = np.array(generated_images)\n",
    "print(generated_images_cdcgan.shape)\n",
    "image_grid = combine_images(generated_images_cdcgan)\n",
    "image_grid = inverse_transform_images(image_grid)\n",
    "\n",
    "fig = plt.figure()\n",
    "ax = fig.add_subplot(1, 1, 1)\n",
    "ax.axis(\"off\")\n",
    "ax.imshow(image_grid, cmap=\"gray\")\n",
    "#ax.set_title(title)\n",
    "fig.canvas.draw()\n",
    "plt.show()"
   ]
  },
  {
   "cell_type": "code",
   "execution_count": null,
   "metadata": {},
   "outputs": [],
   "source": [
    "generated_images_dcgan = np.load(\"./images/dcgan/images_for_advanced_evaluation_by_dcgan.npy\")"
   ]
  },
  {
   "cell_type": "code",
   "execution_count": null,
   "metadata": {},
   "outputs": [],
   "source": [
    "(x_train, y_train), (x_test, y_test) = tf.keras.datasets.mnist.load_data()"
   ]
  },
  {
   "cell_type": "code",
   "execution_count": null,
   "metadata": {},
   "outputs": [],
   "source": [
    "# Reshaping the array to 4-dims so that it can work with the Keras API\n",
    "x_train = x_train.reshape(x_train.shape[0], 28, 28, 1)\n",
    "x_test = x_test.reshape(x_test.shape[0], 28, 28, 1)\n",
    "input_shape = (28, 28, 1)\n",
    "# Making sure that the values are float so that we can get decimal points after division\n",
    "x_train = x_train.astype('float32')\n",
    "x_test = x_test.astype('float32')\n",
    "# Normalizing the RGB codes by dividing it to the max RGB value.\n",
    "x_train /= 255\n",
    "x_test /= 255\n",
    "print('x_train shape:', x_train.shape)\n",
    "print('Number of images in x_train', x_train.shape[0])\n",
    "print('Number of images in x_test', x_test.shape[0])"
   ]
  },
  {
   "cell_type": "code",
   "execution_count": null,
   "metadata": {},
   "outputs": [],
   "source": [
    "# Importing the required Keras modules containing model and layers\n",
    "from tensorflow.keras.models import Sequential\n",
    "from tensorflow.keras.layers import Dense, Conv2D, Dropout, Flatten, MaxPooling2D\n",
    "# Creating a Sequential Model and adding the layers\n",
    "model = Sequential()\n",
    "model.add(Conv2D(28, kernel_size=(3,3), input_shape=input_shape))\n",
    "model.add(MaxPooling2D(pool_size=(2, 2)))\n",
    "model.add(Flatten()) # Flattening the 2D arrays for fully connected layers\n",
    "model.add(Dense(128, activation=tf.nn.relu))\n",
    "model.add(Dropout(0.2))\n",
    "model.add(Dense(10,activation=tf.nn.softmax))"
   ]
  },
  {
   "cell_type": "code",
   "execution_count": null,
   "metadata": {},
   "outputs": [],
   "source": [
    "model.compile(optimizer='adam', \n",
    "              loss='sparse_categorical_crossentropy', \n",
    "              metrics=['accuracy'])"
   ]
  },
  {
   "cell_type": "code",
   "execution_count": null,
   "metadata": {},
   "outputs": [],
   "source": [
    "model.summary()"
   ]
  },
  {
   "cell_type": "code",
   "execution_count": null,
   "metadata": {},
   "outputs": [],
   "source": [
    "model.fit(x=x_train,y=y_train, epochs=10)"
   ]
  },
  {
   "cell_type": "code",
   "execution_count": null,
   "metadata": {},
   "outputs": [],
   "source": [
    "model.evaluate(x_test, y_test)"
   ]
  },
  {
   "cell_type": "code",
   "execution_count": null,
   "metadata": {},
   "outputs": [],
   "source": [
    "image_index = 4444\n",
    "#plt.imshow(x_test[image_index].reshape(28, 28),cmap='Greys')\n",
    "\n",
    "print(x_test.shape)\n",
    "pred = model.predict(x_test)\n",
    "print(pred.shape)\n",
    "print(pred.argmax())"
   ]
  },
  {
   "cell_type": "code",
   "execution_count": null,
   "metadata": {},
   "outputs": [],
   "source": [
    "real_images = x_train[np.random.choice(x_train.shape[0], 1000, replace=False), :]"
   ]
  },
  {
   "cell_type": "code",
   "execution_count": null,
   "metadata": {},
   "outputs": [],
   "source": [
    "def calculate_fid(model, real_images, generated_images):    \n",
    "    \"\"\"Uses the Keras-API and the Tensorflow backend to generat the so-called FID score.\n",
    "    \n",
    "    Keyword arguments:    \n",
    "    model-- Any binary classifier which can distinguish between two images\n",
    "    real_images -- images sampled from the training dataset\n",
    "    generated_images -- images sampled from the set of GAN generated_images\n",
    "    \"\"\"\n",
    "    \n",
    "    # calculate activations\n",
    "    act1 = model.predict(real_images)\n",
    "    act2 = model.predict(generated_images)\n",
    "\n",
    "    # calculate mean and covariance statistics\n",
    "    mu1, sigma1 = act1.mean(axis=0), np.cov(act1, rowvar=False)\n",
    "    mu2, sigma2 = act2.mean(axis=0), np.cov(act2, rowvar=False)\n",
    "\n",
    "    # calculate sum squared difference between means\n",
    "    ssdiff = np.sum((mu1 - mu2)**2.0)\n",
    "\n",
    "    # calculate 8 of product between cov\n",
    "    covmean = sqrtm(sigma1.dot(sigma2))\n",
    "\n",
    "    # check and correct imaginary numbers from sqrt\n",
    "    if np.iscomplexobj(covmean):\n",
    "        covmean = covmean.real\n",
    "\n",
    "    # calculate score\n",
    "    fid = ssdiff + np.trace(sigma1 + sigma2 - 2.0 * covmean)\n",
    "    return fid\n",
    "\n",
    "    # calculate fid\n",
    "fid = calculate_fid(model, real_images, real_images)\n",
    "print('Baseline FID score from real to real images: %.2f' % abs(fid))\n",
    "fid = calculate_fid(model, real_images, fake_dcgan_images)\n",
    "print('FID scroe from real and DCGAN generated images: %.2f' % fid)\n",
    "fid = calculate_fid(model, real_images, generated_images_cdcgan)\n",
    "print('FID scroe from real and cDCGAN generated images: %.2f' % fid)"
   ]
  }
 ],
 "metadata": {
  "accelerator": "GPU",
  "colab": {
   "collapsed_sections": [],
   "name": "dcgan.ipynb",
   "private_outputs": true,
   "provenance": [],
   "toc_visible": true
  },
  "kernelspec": {
   "display_name": "Python 3",
   "language": "python",
   "name": "python3"
  },
  "language_info": {
   "codemirror_mode": {
    "name": "ipython",
    "version": 3
   },
   "file_extension": ".py",
   "mimetype": "text/x-python",
   "name": "python",
   "nbconvert_exporter": "python",
   "pygments_lexer": "ipython3",
   "version": "3.7.6"
  }
 },
 "nbformat": 4,
 "nbformat_minor": 4
}
